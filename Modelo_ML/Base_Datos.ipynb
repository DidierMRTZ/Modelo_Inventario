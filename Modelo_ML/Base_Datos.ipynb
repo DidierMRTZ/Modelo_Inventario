{
 "cells": [
  {
   "cell_type": "code",
   "execution_count": 1,
   "metadata": {},
   "outputs": [],
   "source": [
    "import findspark\n",
    "findspark.init()\n",
    "from pyspark.sql import SparkSession\n",
    "from pyspark import SparkContext\n",
    "from pyspark.sql.functions import *   #lit,col,expr,regexp_extract,regexp_replace,current_date, current_timestamp,date_format\n",
    "from pyspark.sql.types import StructField,StringType,StructType,DoubleType,LongType,IntegerType,FloatType,TimestampType,DataType\n",
    "import pyspark"
   ]
  },
  {
   "cell_type": "code",
   "execution_count": 2,
   "metadata": {},
   "outputs": [],
   "source": [
    "spark= SparkSession.builder.appName(\"BaseDatos\").getOrCreate()\n"
   ]
  },
  {
   "cell_type": "code",
   "execution_count": 3,
   "metadata": {},
   "outputs": [],
   "source": [
    "\"\"\"Defino funcion de usuario para limpiar espacios en columnas\"\"\"\n",
    "def clean_columns(Database):\n",
    "    \"\"\"\n",
    "    - Database: Dataframe de spark \n",
    "    \"\"\"\n",
    "    for column in Database.columns:\n",
    "        Database=Database.withColumnRenamed(column,column.replace(\" \",\"\"))\n",
    "    return(Database)"
   ]
  },
  {
   "cell_type": "code",
   "execution_count": 4,
   "metadata": {},
   "outputs": [],
   "source": [
    "Base_Datos=spark.read.csv(\"Base de datos inventario de riesgo.csv\",sep=\";\",header=True,inferSchema=True)"
   ]
  },
  {
   "cell_type": "code",
   "execution_count": 98,
   "metadata": {},
   "outputs": [],
   "source": [
    "# Estandarizar columnas              \n",
    "Base_Datos_clean= Base_Datos.select(col('Negocio Inventarios').alias('NegocioInventarios'),\n",
    "                  col('Material'),\n",
    "                  col('Tipo Material Inventario').alias('TipoMaterialInventario'),\n",
    "                  regexp_replace(col('Descripcion'),\"(�)\",\"o\").alias('Descripcion'),\n",
    "                  col('Lote'),\n",
    "                  col('Fecha entrada').alias('Fechaentrada'),\n",
    "                  col('Costo Unitario Real').alias('CostoUnitarioReal'),\n",
    "                  regexp_replace(col('Inventario Disponibl'),\"(,)\",\".\").cast(FloatType()).alias('InventarioDisponible'),\n",
    "                  regexp_replace(col('Inventario No Dispon'),\"(,)\",\".\").cast(FloatType()).alias('InventarioNoDisponible'),\n",
    "                  regexp_replace(col('Valor Obsoleto'),\"(,)\",\".\").cast(FloatType()).alias('ValorObsoleto'),\n",
    "                  regexp_replace(col('Valor Bloqueado MM'),\"(,)\",\".\").cast(FloatType()).alias('ValorBloqueadoMM'),\n",
    "                  regexp_replace(col('Valor Total MM'),\"(,)\",\".\").cast(FloatType()).alias('ValorTotalMM'),\n",
    "                  col('Permanencia'),\n",
    "                  col('Marca concat').alias('Cliente'),\n",
    "                  col('CLAS BASE RIESGO').alias('ClaseBaseRiesgo'),\n",
    "                  col('Base de Riesgo').alias('BasedeRiesgo'),\n",
    "                  regexp_replace(trim(col(' Base de Riesgo ($) ')),\"([$]|-)\",\"\").cast(FloatType()).alias('BRPesos'),\n",
    "                  )"
   ]
  },
  {
   "cell_type": "code",
   "execution_count": 99,
   "metadata": {},
   "outputs": [],
   "source": [
    "# Remplazo valores faltantes por 0\n",
    "Base_Datos_clean = Base_Datos_clean.fillna(0, subset=['BRPesos'])"
   ]
  },
  {
   "cell_type": "code",
   "execution_count": 100,
   "metadata": {},
   "outputs": [],
   "source": [
    "# Creo vista de tabla Base_Datos_Clean en SQL\n",
    "\n",
    "Base_Datos_clean.createOrReplaceTempView(\"BaseDatosclean\")\n",
    "\n"
   ]
  },
  {
   "cell_type": "code",
   "execution_count": 101,
   "metadata": {},
   "outputs": [
    {
     "name": "stdout",
     "output_type": "stream",
     "text": [
      "+----+\n",
      "|Lote|\n",
      "+----+\n",
      "|   #|\n",
      "|   #|\n",
      "|   #|\n",
      "|   #|\n",
      "|   #|\n",
      "+----+\n",
      "only showing top 5 rows\n",
      "\n"
     ]
    }
   ],
   "source": [
    "# Limpiar \n",
    "spark.sql('SELECT Lote FROM BaseDatosclean WHERE Lote like \"%#%\"').show(5)\n",
    "\n",
    "\n",
    "\n",
    "#\n",
    "#"
   ]
  },
  {
   "cell_type": "code",
   "execution_count": 102,
   "metadata": {},
   "outputs": [],
   "source": [
    "#Creo las tablas relacionales\n",
    "Tabla_Materiales=Base_Datos_clean.select( regexp_extract(col('Material'),'(\\d{1,})',1).cast(IntegerType()).alias('Id'),\n",
    "                                        col('Material'),\n",
    "                                        col('TipoMaterialInventario'),\n",
    "                                        col('Descripcion')).distinct().sort('Id')    #col('CostoUnitarioReal')\n",
    "\n",
    "Tabla_Clientes=Base_Datos_clean.select(regexp_extract(col('Cliente'),'(\\d{1,})',1).cast(IntegerType()).alias('Id'),\n",
    "                                       col('Cliente')).distinct().sort('Id')\n",
    "\n",
    "Tabla_Riesgo=Base_Datos_clean.select(col('ClaseBaseRiesgo'),\n",
    "                                     col('BasedeRiesgo')).distinct().sort('ClaseBaseRiesgo')\\\n",
    "                                    .withColumn(\"Id\", monotonically_increasing_id()+1)\\\n",
    "                                    .select(col('Id'),col('ClaseBaseRiesgo'),col('BasedeRiesgo'))\n",
    "\n",
    "Tabla_Lote=spark.sql(\"\"\"\n",
    "                        SELECT row_number() OVER (ORDER BY Lote) as Id, Lote\n",
    "                        FROM BaseDatosclean\n",
    "                        GROUP BY Lote\n",
    "                        HAVING Lote!='#'\n",
    "                    \"\"\")"
   ]
  },
  {
   "cell_type": "code",
   "execution_count": 103,
   "metadata": {},
   "outputs": [],
   "source": [
    "# Creo las vistas de Tabla_Riesgo,Tabla_Clientes,Tabla_Materiales,Tabla_Lote en SQL\n",
    "Tabla_Riesgo.createOrReplaceTempView('Tabla_Riesgo')\n",
    "Tabla_Clientes.createOrReplaceTempView('Tabla_Clientes')\n",
    "Tabla_Materiales.createOrReplaceTempView('Tabla_Materiales')\n",
    "Tabla_Lote.createOrReplaceTempView('Tabla_Lote')"
   ]
  },
  {
   "cell_type": "code",
   "execution_count": 109,
   "metadata": {},
   "outputs": [],
   "source": [
    "Tabla_Clientes_Riesgo=spark.sql(\"\"\"\n",
    "            SELECT DISTINCT(Tabla_Riesgo.ID,Tabla_Riesgo.BasedeRiesgo,Tabla_Riesgo.ClaseBaseRiesgo,BaseDatosClean.BRPesos,Tabla_Clientes.Id AS Id_CT) AS Estructura\n",
    "            FROM Tabla_Riesgo\n",
    "            JOIN BaseDatosClean ON Tabla_Riesgo.ClaseBaseRiesgo=BaseDatosClean.ClaseBaseRiesgo\n",
    "            JOIN Tabla_Clientes ON BaseDatosClean.Cliente=Tabla_Clientes.Cliente\n",
    "            \"\"\") \n",
    "\n",
    "Tabla_Clientes_Riesgo=Tabla_Clientes_Riesgo.select(col('Estructura.Id').alias('Riesgo_Id'),\n",
    "                 col('Estructura.Id_CT').alias('Cliente_Id'),\n",
    "                 col('Estructura.BasedeRiesgo'),\n",
    "                 col('Estructura.ClaseBaseRiesgo'),\n",
    "                 col('Estructura.BRPesos'))\\\n",
    "                .withColumn(\"Id\", monotonically_increasing_id()+1).alias('Id')    # Total 2511\n",
    "\n",
    "\n",
    "\n",
    "Tabla_Lote_Materiales=spark.sql(\"\"\"\n",
    "            SELECT DISTINCT(Tabla_Materiales.Id AS Id_M,Tabla_Materiales.Material,Tabla_Materiales.TipoMaterialInventario,\n",
    "            Tabla_Lote.Id AS Id_L,Tabla_Lote.Lote,BaseDatosClean.CostoUnitarioReal) AS Estructura\n",
    "            FROM BaseDatosClean\n",
    "            JOIN Tabla_Lote ON Tabla_Lote.Lote=BaseDatosClean.Lote\n",
    "            JOIN Tabla_Materiales ON BaseDatosClean.Material=Tabla_Materiales.Material\n",
    "            \"\"\")  \n",
    "\n",
    "Tabla_Lote_Materiales=Tabla_Lote_Materiales.select(col('Estructura.Id_M').alias('Material_Id'),\n",
    "                 col('Estructura.Material'),\n",
    "                 col('Estructura.TipoMaterialInventario'),\n",
    "                 col('Estructura.Id_L').alias('Lote_Id'),\n",
    "                 col('Estructura.Lote'),\n",
    "                 col('Estructura.CostoUnitarioReal'))\\\n",
    "                .withColumn(\"Id\", monotonically_increasing_id()+1).alias('Id')  \n",
    "\n",
    "\n",
    "Tabla_Fecha=Base_Datos_clean.select(col('Fechaentrada'),\n",
    "                regexp_extract(col('Fechaentrada'),'/(\\d{1,})/',1).cast(IntegerType()).alias('Mes'), \n",
    "                regexp_extract(col('Fechaentrada'),'/(\\d{4})',1).cast(IntegerType()).alias('Año')).distinct().sort(['Mes','Año'])\\\n",
    "                .withColumn(\"Id\",monotonically_increasing_id()+1) \n",
    "\n",
    "Table_Permanencias=Base_Datos_clean.select('Permanencia').distinct().sort('Permanencia')\\\n",
    "                                    .withColumn(\"Id\",monotonically_increasing_id()) "
   ]
  },
  {
   "cell_type": "code",
   "execution_count": 134,
   "metadata": {},
   "outputs": [],
   "source": [
    "Tabla_Fecha.createOrReplaceTempView('Tabla_Fecha')\n",
    "Table_Permanencias.createOrReplaceTempView('Table_Permanencias')\n",
    "Tabla_Lote_Materiales.createOrReplaceTempView('Tabla_Lote_Materiales')\n",
    "Tabla_Clientes_Riesgo.createOrReplaceTempView('Tabla_Clientes_Riesgo')"
   ]
  },
  {
   "cell_type": "code",
   "execution_count": 136,
   "metadata": {},
   "outputs": [],
   "source": [
    "Inventarios=spark.sql(\"\"\"\n",
    "            SELECT DISTINCT(Tabla_Fecha.Fechaentrada,BaseDatosClean.Permanencia,BaseDatosClean.Material,Tabla_Clientes_Riesgo.ClaseBaseRiesgo) AS Estructura\n",
    "            FROM BaseDatosClean\n",
    "            JOIN Tabla_Fecha ON BaseDatosClean.Fechaentrada=Tabla_Fecha.Fechaentrada\n",
    "            JOIN Table_Permanencias ON Table_Permanencias.Permanencia=BaseDatosClean.Permanencia\n",
    "            JOIN Tabla_Lote_Materiales ON Tabla_Lote_Materiales.Material=BaseDatosClean.Material\n",
    "            JOIN Tabla_Clientes_Riesgo ON Tabla_Clientes_Riesgo.ClaseBaseRiesgo=BaseDatosClean.ClaseBaseRiesgo\n",
    "            \"\"\")  \n"
   ]
  },
  {
   "cell_type": "code",
   "execution_count": 140,
   "metadata": {},
   "outputs": [],
   "source": [
    "\n",
    "Inventario=Inventarios.select(col('Estructura.Fechaentrada').alias('1'),\n",
    "                 col('Estructura.Permanencia').alias('2'),\n",
    "                 col('Estructura.Material').alias('3'),\n",
    "                 col('Estructura.ClaseBaseRiesgo').alias('3'))"
   ]
  },
  {
   "cell_type": "code",
   "execution_count": 141,
   "metadata": {},
   "outputs": [],
   "source": [
    "#df.cache()\n",
    "#Inventario.show(5)\n",
    "#df.unpersist()"
   ]
  }
 ],
 "metadata": {
  "kernelspec": {
   "display_name": "base",
   "language": "python",
   "name": "python3"
  },
  "language_info": {
   "codemirror_mode": {
    "name": "ipython",
    "version": 3
   },
   "file_extension": ".py",
   "mimetype": "text/x-python",
   "name": "python",
   "nbconvert_exporter": "python",
   "pygments_lexer": "ipython3",
   "version": "3.9.13"
  },
  "orig_nbformat": 4
 },
 "nbformat": 4,
 "nbformat_minor": 2
}
