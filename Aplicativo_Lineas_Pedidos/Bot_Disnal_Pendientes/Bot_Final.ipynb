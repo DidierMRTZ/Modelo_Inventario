{
 "cells": [
  {
   "cell_type": "code",
   "execution_count": null,
   "metadata": {},
   "outputs": [
    {
     "ename": "",
     "evalue": "",
     "output_type": "error",
     "traceback": [
      "\u001b[1;31mFailed to start the Kernel. \n",
      "\u001b[1;31mUnable to start Kernel 'base (Python 3.9.13)' due to a timeout waiting for the ports to get used. \n",
      "\u001b[1;31mView Jupyter <a href='command:jupyter.viewOutput'>log</a> for further details."
     ]
    }
   ],
   "source": [
    "from dash import Dash, dash_table as dt, dcc, html\n",
    "from dash.dependencies import Input, Output\n",
    "import pandas as pd\n",
    "from Librerias_SAP import SAP_GUI, Funtions\n",
    "import re\n",
    "from collections import OrderedDict\n",
    "import dash\n",
    "import numpy as np\n",
    "import dash_bootstrap_components as dbc\n",
    "from datetime import datetime, timedelta\n",
    "import plotly.graph_objects as go"
   ]
  },
  {
   "cell_type": "code",
   "execution_count": 216,
   "metadata": {},
   "outputs": [],
   "source": [
    "# Disposiciones ZSD110\n",
    "Name_ZSD110_FIRME=\"Pendiente_Firme\"  # Revisar suele no guardar\n",
    "Name_ZSD110_MERCADEO=\"Pendiente_Mercadeo\"  # Revisar suele no guardar\n",
    "Name_ZSD110_TOTAL=\"Pendiente_Total\"  # Revisar suele no guardar\n",
    "\n",
    "default_column_Canal01_Pendientes=['Can.distr.', 'Denomin.', 'Seccion', 'Estado', 'Solic.', 'Nombre',\n",
    "       'Pedido', 'Clase Pedi', 'Creado el', 'Pedido.1', 'Posición', 'Material',\n",
    "       'Vlr.Neto P', 'Moneda', 'Cantidad P', 'Cantidad C', 'UM venta',\n",
    "       'Vlr.Neto C', 'Status Glo', 'Status Tot', 'Status Ent', 'Status Ent.1',\n",
    "       'Status Ent.2']  \n",
    "\n",
    "default_column_Canal01_Entregado=['Can.distr.', 'Denomin.', 'Seccion', 'Estado', 'Solic.', 'Nombre',\n",
    "       'Entrega', 'Posicion E', 'F.Creacion', 'Pedido', 'Clase Pedi',\n",
    "       'F.Creacion.1', 'Pedido.1', 'Posicion P', 'Material', 'Moneda',\n",
    "       'Cantidad E', 'UM venta', 'Valor Neto', 'StTotPick.', 'StatGlWM',\n",
    "       'StTotMovMe', 'Stat.fact.', 'Status PT']\n",
    "\n",
    "default_column_Pedidos=['OrgVt', 'CDis', 'BqEn', 'Solic.', 'PrimFeEntr', 'ÚltEntrega',\n",
    "       'FePrefEnt.', 'ClVt', 'Valor neto', 'Mon.', 'Doc.venta', 'ST',\n",
    "       'Solicitante', 'Nº pedido cliente', 'Descrip.breve', 'Nº de cliente 1',\n",
    "       'Contador de pedidos', 'Dirección', 'Barrio', 'Población', 'Teléfono']\n",
    "\n",
    "Columns_Data_ZSD10_Exito_Cencosub_ZVMI=['Fecha doc.', 'Solicitante', 'Cliente', 'Nº de cliente 1', 'Marca',\n",
    "       'Material', 'Número de material', 'Unidades', 'UM', 'ValorNeto',\n",
    "       'Nº pedido cliente', 'Doc.venta', 'ClVt', 'Solic.', 'OrgVt', 'CDis',\n",
    "       'OfVta', 'GVen', 'Organización de ventas', 'Mon.', 'Jquía.productos',\n",
    "       'Total Pedidos', 'Plataforma', 'Fe.PedCpas', 'Creado por']\n",
    "\n",
    "Columns_Data_ZSD038_Exito_Cencosub_Rechazados=['Doc.comer.', 'Fecha doc.', 'Destinat.', 'Nombre 1', 'Cód.Vend.',\n",
    "       'Nombre vendedor', 'MR', 'Denominación', 'Material', 'Denominación.1',\n",
    "       'Marca', 'Categoría', 'Ctd.confirmada', 'Valor neto', 'Mon.', 'CDis',\n",
    "       'Solic.', 'Nombre']\n",
    "\n",
    "Columns_Data_ZSD10=['Fecha doc.', 'Solicitante', 'Cliente', 'Nº de cliente 1', 'Marca',\n",
    "       'Material', 'Número de material', 'Unidades', 'UM', 'ValorNeto',\n",
    "       'Nº pedido cliente', 'Doc.venta', 'ClVt', 'Solic.', 'OrgVt', 'CDis',\n",
    "       'OfVta', 'GVen', 'Organización de ventas', 'Mon.', 'Jquía.productos',\n",
    "       'Total Pedidos', 'Plataforma', 'Fe.PedCpas', 'Creado por']\n",
    "\n",
    "Column_Data_ZSD76=['Solic.', 'Solicitante', 'Fecha salida mercancía', 'Material',\n",
    "       'Número de material', 'Cantidad entrega', 'UM', 'MARCA', 'CATEGORIA',\n",
    "       'Entrega', 'ClEnt', 'Clase de entrega', 'ClVt',\n",
    "       'Clase de documento de ventas', 'OrgVt', 'CDis', 'Doc.venta',\n",
    "       'Prc.neto', 'Mon.', 'Destinat.', 'Destinatario de mercancías',\n",
    "       'Nº pedido cliente', 'Fecha creación Pedido', 'Cont.']\n",
    "\n",
    "\"\"\"----------------------------------------------LEER ARCHIVOS--------------------------------\"\"\"\n",
    "#Data Pendientes\n",
    "Canal01_Pendiente=pd.read_csv(\"C:\\\\Users\\\\practicante.picking\\\\OneDrive - Prebel S.A\\\\Escritorio\\\\bot_picking\\\\Archivos_CSV\\\\Canal01_ENT.txt\",skiprows=1,delimiter=\"\\t\")\n",
    "Canal01_Pendiente=Funtions.Clean_Columns(Canal01_Pendiente)\n",
    "Canal01_Pendiente=Funtions.default_column(default_column_Canal01_Pendientes,Canal01_Pendiente)\n",
    "\n",
    "#Data Entregados\n",
    "Canal01_Entregado=pd.read_csv(\"C:\\\\Users\\\\practicante.picking\\\\OneDrive - Prebel S.A\\\\Escritorio\\\\bot_picking\\\\Archivos_CSV\\\\Canal01_ENT.txt\",skiprows=1,delimiter=\"\\t\")\n",
    "Canal01_Entregado=Funtions.Clean_Columns(Canal01_Entregado)\n",
    "Canal01_Entregado=Funtions.default_column(default_column_Canal01_Entregado,Canal01_Entregado)\n"
   ]
  },
  {
   "cell_type": "code",
   "execution_count": 217,
   "metadata": {},
   "outputs": [],
   "source": [
    "\"\"\"\"\"-------------------------------------------Limpio los datos-----------------------------------\"\"\"\n",
    "\n",
    "# Esta session combierte los valores monetarios en enteros str a int para posteriores calculos\n",
    "Canal01_Pendiente['Vlr.Neto P'], Canal01_Pendiente['Cantidad P']=Funtions.Clean_Num_List(Canal01_Pendiente['Valor Neto'], Canal01_Pendiente['Cantidad E'])\n",
    "Canal01_Entregado['Valor Neto'], Canal01_Entregado['Cantidad E']=Funtions.Clean_Num_List(Canal01_Entregado['Valor Neto'],Canal01_Entregado['Cantidad E'])\n",
    "\n",
    "# Esta session combierte colunmas de float .0 a enteros int, tambien recibe valores Null\n",
    "Canal01_Pendiente['Pedido.1'],Canal01_Entregado['Pedido.1']=Funtions.Estandarizo_Pedidos(Canal01_Pendiente['Pedido.1'],Canal01_Entregado['Pedido.1'])\n"
   ]
  },
  {
   "attachments": {},
   "cell_type": "markdown",
   "metadata": {},
   "source": [
    "# ¿Preguntar cantidad pendiente P y C significado"
   ]
  },
  {
   "cell_type": "code",
   "execution_count": 218,
   "metadata": {},
   "outputs": [],
   "source": [
    "\"\"\"Seccion para coompletar los valores necesarios para trabajar\"\"\"\n",
    "\n",
    "Agenda=[\"85\",\"20\",\"146\",\"149\",\"50\",\"138\",\"45\"]\n",
    "# En este caso solo aplica para Entrega y pendiente en el cual completa con 00 los pedidos del Exito\n",
    "Canal01_Entregado['Pedido.1']=Funtions.complete_pedidos(Canal01_Entregado['Pedido.1'],Agenda)\n",
    "Canal01_Pendiente['Pedido.1']=Funtions.complete_pedidos(Canal01_Pendiente['Pedido.1'],Agenda)"
   ]
  },
  {
   "cell_type": "code",
   "execution_count": 219,
   "metadata": {},
   "outputs": [
    {
     "name": "stdout",
     "output_type": "stream",
     "text": [
      "869 869\n"
     ]
    }
   ],
   "source": [
    "\"\"\"---------------------------------------Unifico los dataframes de pedido y entregas--------------------------------------------------------------\"\"\"\n",
    "Default_Column_Informe=['Canal','Denomin.','Solic.','Nombre','Pedido','Clase Pedido','Material','Valor Neto','Cantidad']\n",
    "\n",
    "longuitud_Pendiente=len(Canal01_Pendiente)\n",
    "longuitud_Entrega=len(Canal01_Entregado)\n",
    "\n",
    "\n",
    "Canal01_Pendiente[['Can.distr.','Denomin.','Solic.','Nombre','Pedido.1','Clase Pedi','Material','Vlr.Neto P','Cantidad P']]\n",
    "Canal01_Entregado[['Can.distr.', 'Denomin.','Solic.','Nombre','Pedido.1','Clase Pedi','Material','Valor Neto','Cantidad E']]\n",
    "\n",
    "\n",
    "Canal01_Pendiente_Informe=Canal01_Pendiente[['Can.distr.','Denomin.','Solic.','Nombre','Pedido.1','Clase Pedi','Material','Vlr.Neto P','Cantidad P']]\n",
    "Canal01_Entregado_Informe=Canal01_Entregado[['Can.distr.', 'Denomin.','Solic.','Nombre','Pedido.1','Clase Pedi','Material','Valor Neto','Cantidad E']]\n",
    "\n",
    "\n",
    "print(longuitud_Pendiente,longuitud_Entrega)\n",
    "\n",
    "\n",
    "\"\"\"---En esta sección analizar si borro duplicados-----\"\"\"\n",
    "\n",
    "Canal01_Entregado_Pendiente_Informe=pd.concat([Funtions.default_column(Default_Column_Informe,Canal01_Pendiente_Informe),Funtions.default_column(Default_Column_Informe,Canal01_Entregado_Informe)]).drop_duplicates().reset_index(drop=True)"
   ]
  },
  {
   "cell_type": "code",
   "execution_count": 220,
   "metadata": {},
   "outputs": [],
   "source": [
    "\"\"\"\"------------------------------------ Estandarizo datos de columnas del informe de las lineas que deberian ser numericos------------------------------------------------\"\"\"\n",
    "\n",
    "try:\n",
    "    Canal01_Entregado_Pendiente_Informe['Valor Neto'],Canal01_Entregado_Pendiente_Informe['Cantidad']=Funtions.Clean_Num_List(Canal01_Entregado_Pendiente_Informe['Valor Neto'],Canal01_Entregado_Pendiente_Informe['Cantidad'])\n",
    "except:\n",
    "    print(\"intento\")\n",
    "    pass\n"
   ]
  },
  {
   "cell_type": "code",
   "execution_count": 221,
   "metadata": {},
   "outputs": [],
   "source": [
    "\"\"\"------------------------Optener datos de Agenda_Exito y Cencosub------------------\"\"\"\n",
    "#Agenda Exito y Cencosub\n",
    "Agenda_Exito=[\"0085\",\"0020\",\"0146\",\"0149\",\"0050\",\"0138\",\"0045\"]\n",
    "Agenda_Cencosub=[\"93\",\"122\",\"127\",\"95\",\"60\"]\n",
    "\n",
    "\n",
    "\"\"\"-----------------------------Aplico filtro en Agenda exito Entrega----------------------------------\"\"\"\n",
    "Filtro_Agenda_Exito_Entrega_Pendiente=Funtions.Search_Agenda_Exito(Canal01_Entregado_Pendiente_Informe['Pedido'],Agenda_Exito)\n",
    "Filtro_Agenda_Cencosub_Entrega_Pendiente=Funtions.Search_agenda_Cencosub(Canal01_Entregado_Pendiente_Informe[\"Pedido\"],Agenda_Cencosub)\n",
    "Filtro_Sin_Agenda_Cencosub_Entrega_Pendiente=Filtro_Agenda_Exito_Entrega_Pendiente+Filtro_Agenda_Cencosub_Entrega_Pendiente"
   ]
  },
  {
   "cell_type": "code",
   "execution_count": 222,
   "metadata": {},
   "outputs": [],
   "source": [
    "\"\"\"-------------------------------------------------Aplico filtro para el consolidados------------------------------------------------------------\"\"\"\n",
    "\n",
    "\n",
    "\"\"\"------------------------------Canal 01 Entrega con agenda Exito-----------------------\"\"\"\n",
    "#Agenda Exito\n",
    "Filtro_Canal01_Entregado_Pendiente_Exito=(Canal01_Entregado_Pendiente_Informe['Pedido'].isin(Filtro_Agenda_Exito_Entrega_Pendiente))   #Excluyo con ~\n",
    "Canal01_Entregado_Pendiente_Agenda_Exito=Canal01_Entregado_Pendiente_Informe.loc[Filtro_Canal01_Entregado_Pendiente_Exito].reset_index(drop=True)\n",
    "Canal01_Entregado_Pendiente_Sin_Agenda_Exito=Canal01_Entregado_Pendiente_Informe.loc[~Filtro_Canal01_Entregado_Pendiente_Exito].reset_index(drop=True)\n",
    "\n",
    "#Agenda Censosud\n",
    "\"\"\"------------------------------Canal 01 Entrega con agenda Cencosub-----------------------\"\"\"\n",
    "Filtro_Canal01_Entregado_Pendiente_Cencosub=(Canal01_Entregado_Pendiente_Informe['Pedido'].isin(Filtro_Agenda_Cencosub_Entrega_Pendiente))   #Excluyo con ~\n",
    "Canal01_Entregado_Pendiente_Agenda_Cencosub=Canal01_Entregado_Pendiente_Informe.loc[Filtro_Canal01_Entregado_Pendiente_Cencosub].reset_index(drop=True)\n",
    "Canal01_Entregado_Pendiente_Sin_Agenda_Cencosub=Canal01_Entregado_Pendiente_Informe.loc[~Filtro_Canal01_Entregado_Pendiente_Cencosub].reset_index(drop=True)\n"
   ]
  },
  {
   "cell_type": "code",
   "execution_count": 223,
   "metadata": {},
   "outputs": [],
   "source": [
    "\"\"\"------------------------------Canal 01 Entrega con y sin agenda Exito y Cencosub-----------------------\"\"\"\n",
    "Filtro_Canal01_Entregado_Pendiente_Sin_Exito_Cencosub=(Canal01_Entregado_Pendiente_Informe['Pedido'].isin(Filtro_Sin_Agenda_Cencosub_Entrega_Pendiente)) \n",
    "Canal01_Entregado_Pendiente_Sin_Agenda_Exito_Cencosub=Canal01_Entregado_Pendiente_Informe.loc[~Filtro_Canal01_Entregado_Pendiente_Sin_Exito_Cencosub].reset_index(drop=True)"
   ]
  },
  {
   "cell_type": "code",
   "execution_count": 224,
   "metadata": {},
   "outputs": [],
   "source": [
    "\n",
    "\"\"\"----------------------------------------------Creao tabla dinamica general--------------------------------------------------------------------------------\"\"\"\n",
    "Tabla_dinamica_Canal01_Entregado_Pendiente_Informe=Canal01_Entregado_Pendiente_Informe.pivot_table(index=['Pedido','Clase Pedido'],aggfunc={'Material':'count','Cantidad':sum,'Valor Neto':sum}).reset_index()"
   ]
  },
  {
   "cell_type": "code",
   "execution_count": 225,
   "metadata": {},
   "outputs": [],
   "source": [
    "# Tabla dinácamica Exito\n",
    "Table_dinamica_Exito_entrega_pendiente=Tabla_dinamica_Canal01_Entregado_Pendiente_Informe[Tabla_dinamica_Canal01_Entregado_Pendiente_Informe['Pedido'].isin(Filtro_Agenda_Exito_Entrega_Pendiente)]\n",
    "# Tabla dinácamica Exito Cencosud\n",
    "Table_dinamica_Cencosub_entrega_pendiente=Tabla_dinamica_Canal01_Entregado_Pendiente_Informe[Tabla_dinamica_Canal01_Entregado_Pendiente_Informe['Pedido'].isin(Filtro_Agenda_Cencosub_Entrega_Pendiente)]\n",
    "# Tabla dinácamica sin agenda Exito y Cencosud\n",
    "Table_dinamica_Sin_Exito_Cencosub_entrega_pendiente=Tabla_dinamica_Canal01_Entregado_Pendiente_Informe[~Tabla_dinamica_Canal01_Entregado_Pendiente_Informe['Pedido'].isin(Filtro_Sin_Agenda_Cencosub_Entrega_Pendiente)]\n"
   ]
  },
  {
   "attachments": {},
   "cell_type": "markdown",
   "metadata": {},
   "source": [
    "# Preguntar con los valores Null"
   ]
  },
  {
   "cell_type": "code",
   "execution_count": 226,
   "metadata": {},
   "outputs": [],
   "source": [
    "pedidos_Exito_Cencosub=pd.concat([Table_dinamica_Exito_entrega_pendiente['Pedido'],Table_dinamica_Cencosub_entrega_pendiente['Pedido']])\n",
    "\n",
    "#Busco en la tansaccion ZSD037 los pedidos de las tablas dinamicas tanto de Exito y Cencosub\n",
    "\n",
    "#Transsaccion_ZSD037=\"zsd037\"\n",
    "#SAP_GUI.Search_Pedidos_ZSD037(Transsaccion_ZSD037,pedidos_Exito_Cencosub,session)"
   ]
  },
  {
   "cell_type": "code",
   "execution_count": 227,
   "metadata": {},
   "outputs": [],
   "source": [
    "Name_ZSD037=\"Pedidos pendientes Exito y Cencosub\"\n",
    "Ruta_ZSD037_Exito_Cencosub=\"C:\\\\Users\\\\practicante.picking\\\\OneDrive - Prebel S.A\\\\Escritorio\\\\bot_picking\\\\Archivos_CSV\\\\\"\n",
    "#SAP_GUI.Export_TXT2(Name_ZSD037,session,Ruta_ZSD037_Exito_Cencosub)"
   ]
  },
  {
   "cell_type": "code",
   "execution_count": 228,
   "metadata": {},
   "outputs": [],
   "source": [
    "# Utilizo la transaccion para buscar ZSD037 en entrega para las fechas\n",
    "url_ZSD037_Pedidos_Exito_Cencosub=\"C:\\\\Users\\\\practicante.picking\\\\OneDrive - Prebel S.A\\\\Escritorio\\\\bot_picking\\\\Archivos_CSV\\\\\"+str(Name_ZSD037)+\".txt\"\n",
    "\n",
    "Data_ZSD037_Pedidos_Exito_Cencosub=pd.read_csv(url_ZSD037_Pedidos_Exito_Cencosub,skiprows=5,delimiter=\"\\t\")\n",
    "Data_ZSD037_Pedidos_Exito_Cencosub=Funtions.Clean_Columns(Data_ZSD037_Pedidos_Exito_Cencosub)\n",
    "Data_ZSD037_Pedidos_Exito_Cencosub=Funtions.default_column(default_column_Pedidos,Data_ZSD037_Pedidos_Exito_Cencosub)\n",
    "Data_ZSD037_Pedidos_Exito_Cencosub=Data_ZSD037_Pedidos_Exito_Cencosub[Data_ZSD037_Pedidos_Exito_Cencosub['Nº pedido cliente'].notnull()]\n"
   ]
  },
  {
   "attachments": {},
   "cell_type": "markdown",
   "metadata": {},
   "source": [
    "# Ver metodo estandarizar pedidos y ver las fechas de los que no pertenecen a la agendas Exito y Cencosub"
   ]
  },
  {
   "cell_type": "code",
   "execution_count": 229,
   "metadata": {},
   "outputs": [],
   "source": [
    "# Puede que se represente inconsistencia entre str y int por lo cual estandarizo pedidos\n",
    "try:\n",
    "    Data_ZSD037_Pedidos_Exito_Cencosub[\"Nº pedido cliente\"]=Funtions.Clean_int_to_str(Data_ZSD037_Pedidos_Exito_Cencosub[\"Nº pedido cliente\"])\n",
    "    Data_ZSD037_Pedidos_Exito_Cencosub[\"Nº pedido cliente\"]=Funtions.complete_pedidos(Data_ZSD037_Pedidos_Exito_Cencosub[\"Nº pedido cliente\"],Agenda)\n",
    "except:\n",
    "    pass"
   ]
  },
  {
   "cell_type": "code",
   "execution_count": 230,
   "metadata": {},
   "outputs": [],
   "source": [
    "#Dataframe de interes\n",
    "Data_ZSD037_Pedidos_Pendientes_Fecha=Data_ZSD037_Pedidos_Exito_Cencosub[['Nº pedido cliente','PrimFeEntr','ÚltEntrega']].drop_duplicates()"
   ]
  },
  {
   "cell_type": "code",
   "execution_count": 231,
   "metadata": {},
   "outputs": [],
   "source": [
    "#Completo Pedidos indispensable\n",
    "Data_ZSD037_Pedidos_Pendientes_Fecha[\"Nº pedido cliente\"]=Funtions.complete_pedidos(Data_ZSD037_Pedidos_Pendientes_Fecha[\"Nº pedido cliente\"],Agenda)"
   ]
  },
  {
   "cell_type": "code",
   "execution_count": 232,
   "metadata": {},
   "outputs": [
    {
     "data": {
      "text/plain": [
       "0       0020679423\n",
       "174     0085782046\n",
       "183     0085782553\n",
       "193     0085782564\n",
       "203     0085782577\n",
       "213     0085782604\n",
       "751     0085782605\n",
       "881     0085782606\n",
       "891     0085782607\n",
       "950     0085782642\n",
       "1344    0085782643\n",
       "1364    0085782644\n",
       "1453    0085782645\n",
       "1483    0085782646\n",
       "1603    0085782650\n",
       "1623    0085782657\n",
       "2040    0085782658\n",
       "2050    0085782660\n",
       "2170    0085782661\n",
       "2180    0085782662\n",
       "2200    0085782771\n",
       "2209    0149106725\n",
       "2315    127-448885\n",
       "2324    122-444641\n",
       "2396    127-448893\n",
       "2432     93-490535\n",
       "2441     93-490639\n",
       "2468     93-490644\n",
       "2513     95-498897\n",
       "2574     95-498907\n",
       "Name: Nº pedido cliente, dtype: object"
      ]
     },
     "execution_count": 232,
     "metadata": {},
     "output_type": "execute_result"
    }
   ],
   "source": [
    "Data_ZSD037_Pedidos_Pendientes_Fecha[\"Nº pedido cliente\"]"
   ]
  },
  {
   "cell_type": "code",
   "execution_count": 233,
   "metadata": {},
   "outputs": [
    {
     "data": {
      "text/html": [
       "<div>\n",
       "<style scoped>\n",
       "    .dataframe tbody tr th:only-of-type {\n",
       "        vertical-align: middle;\n",
       "    }\n",
       "\n",
       "    .dataframe tbody tr th {\n",
       "        vertical-align: top;\n",
       "    }\n",
       "\n",
       "    .dataframe thead th {\n",
       "        text-align: right;\n",
       "    }\n",
       "</style>\n",
       "<table border=\"1\" class=\"dataframe\">\n",
       "  <thead>\n",
       "    <tr style=\"text-align: right;\">\n",
       "      <th></th>\n",
       "      <th>Pedido</th>\n",
       "      <th>Clase Pedido</th>\n",
       "      <th>Cantidad</th>\n",
       "      <th>Material</th>\n",
       "      <th>Valor Neto</th>\n",
       "    </tr>\n",
       "  </thead>\n",
       "  <tbody>\n",
       "    <tr>\n",
       "      <th>0</th>\n",
       "      <td>0020679423</td>\n",
       "      <td>ZEDI</td>\n",
       "      <td>170.0</td>\n",
       "      <td>39</td>\n",
       "      <td>6263554.0</td>\n",
       "    </tr>\n",
       "  </tbody>\n",
       "</table>\n",
       "</div>"
      ],
      "text/plain": [
       "       Pedido Clase Pedido  Cantidad  Material  Valor Neto\n",
       "0  0020679423         ZEDI     170.0        39   6263554.0"
      ]
     },
     "execution_count": 233,
     "metadata": {},
     "output_type": "execute_result"
    }
   ],
   "source": [
    "Table_dinamica_Exito_entrega_pendiente"
   ]
  },
  {
   "cell_type": "code",
   "execution_count": 234,
   "metadata": {},
   "outputs": [],
   "source": [
    "#---------------------------------Tabla dinamica Exito---------------------------------------------\n",
    "Tabla_Agenda_Exito=pd.merge(Data_ZSD037_Pedidos_Pendientes_Fecha,Table_dinamica_Exito_entrega_pendiente,how=\"right\",left_on=\"Nº pedido cliente\",right_on=\"Pedido\")[['Nº pedido cliente', 'PrimFeEntr', 'ÚltEntrega',\n",
    "       'Clase Pedido', 'Cantidad', 'Material', 'Valor Neto']]\n",
    "\n",
    "Agenda_name_Exito={\"0085\":\"FUNZA\",\"0020\":\"VEGAS\",\"0146\":\"BARRANQUILLA\",\"0149\":\"BUCARAMANGA\",\"0050\":\"CALI\",\"0138\":\"PEREIRA\",\"0045\":\"SURTIMAYORISTAS\"}\n",
    "\n",
    "Tabla_Agenda_Exito[\"Plataforma\"]=Tabla_Agenda_Exito[\"Nº pedido cliente\"].apply(lambda x: Agenda_name_Exito[re.findall(\"(\"+\"|\".join(list(Agenda_name_Exito.keys()))+\")\",x)[0]] if re.findall(\"(\"+\"|\".join(list(Agenda_name_Exito.keys()))+\")\",x)!=[] else x)"
   ]
  },
  {
   "cell_type": "code",
   "execution_count": 235,
   "metadata": {},
   "outputs": [],
   "source": [
    "Tabla_Agenda_Cencusub=pd.merge(Data_ZSD037_Pedidos_Pendientes_Fecha,Table_dinamica_Cencosub_entrega_pendiente,how=\"right\",left_on=\"Nº pedido cliente\",right_on=\"Pedido\")[['Nº pedido cliente', 'PrimFeEntr', 'ÚltEntrega',\n",
    "       'Clase Pedido', 'Cantidad', 'Material', 'Valor Neto']]"
   ]
  },
  {
   "cell_type": "code",
   "execution_count": 236,
   "metadata": {},
   "outputs": [],
   "source": [
    "#Dataframe de interes\n",
    "\n",
    "Tabla_Agenda_Cencusub=pd.merge(Data_ZSD037_Pedidos_Pendientes_Fecha,Table_dinamica_Cencosub_entrega_pendiente,how=\"right\",left_on=\"Nº pedido cliente\",right_on=\"Pedido\")[['Nº pedido cliente', 'PrimFeEntr', 'ÚltEntrega',\n",
    "       'Clase Pedido', 'Cantidad', 'Material', 'Valor Neto']]\n",
    "\n",
    "Agenda_name_Cencosub={\"93-\":\"MEDELLIN\",\"122-\":\"BARRANQUILLA\",\"127-\":\"BUCARAMANGA\",\"95-\":\"CALI\",\"60-\":\"BOGOTA\"}\n",
    "\n",
    "Tabla_Agenda_Cencusub[\"Plataforma\"]=Tabla_Agenda_Cencusub[\"Nº pedido cliente\"].apply(lambda x: Agenda_name_Cencosub[re.findall(\"\\d*-\",x)[0]] if re.findall(\"\\d*-\",x)[0] in list(Agenda_name_Cencosub.keys()) else None)"
   ]
  },
  {
   "attachments": {},
   "cell_type": "markdown",
   "metadata": {},
   "source": [
    "# Pedido Firme Mercadeo Total"
   ]
  },
  {
   "cell_type": "code",
   "execution_count": 237,
   "metadata": {},
   "outputs": [],
   "source": [
    "# ZSD110 FIRME\n",
    "url_ZSD110_FIRME=\"C:\\\\Users\\\\practicante.picking\\\\OneDrive - Prebel S.A\\\\Escritorio\\\\bot_picking\\\\Archivos_CSV\\\\\"+str(Name_ZSD110_FIRME)+\".txt\"\n",
    "Data_ZSD110_FIRME=pd.read_csv(url_ZSD110_FIRME,skiprows=1,delimiter=\"\\t\")\n",
    "Data_ZSD110_FIRME=Funtions.Clean_Columns(Data_ZSD110_FIRME)\n",
    "Data_ZSD110_FIRME[\"Lineas\"]=Funtions.Clean_Num_List(Data_ZSD110_FIRME[\"Lineas\"])\n",
    "\n",
    "\n",
    "# ZSD110 MERCADE0\n",
    "url_ZSD110_MERCADEO=\"C:\\\\Users\\\\practicante.picking\\\\OneDrive - Prebel S.A\\\\Escritorio\\\\bot_picking\\\\Archivos_CSV\\\\\"+str(Name_ZSD110_MERCADEO)+\".txt\"\n",
    "Data_ZSD110_MERCADEO=pd.read_csv(url_ZSD110_MERCADEO,skiprows=1,delimiter=\"\\t\")\n",
    "Data_ZSD110_MERCADEO=Funtions.Clean_Columns(Data_ZSD110_MERCADEO)\n",
    "Data_ZSD110_MERCADEO[\"Lineas\"]=Funtions.Clean_Num_List(Data_ZSD110_MERCADEO[\"Lineas\"])\n",
    "\n",
    "\n",
    "# ZSD110 Pendiente Total\n",
    "url_ZSD110_PENDIENTES=\"C:\\\\Users\\\\practicante.picking\\\\OneDrive - Prebel S.A\\\\Escritorio\\\\bot_picking\\\\Archivos_CSV\\\\\"+str(Name_ZSD110_TOTAL)+\".txt\"\n",
    "Data_ZSD110_PENDIENTES=pd.read_csv(url_ZSD110_PENDIENTES,skiprows=1,delimiter=\"\\t\")\n",
    "Data_ZSD110_PENDIENTES=Funtions.Clean_Columns(Data_ZSD110_PENDIENTES)\n",
    "Data_ZSD110_PENDIENTES[\"Lineas\"]=Funtions.Clean_Num_List(Data_ZSD110_PENDIENTES[\"Lineas\"])\n",
    "\n",
    "\"\"\"---------------------CAMBIAR INDICES------------------------------------------\"\"\"\n",
    "Channels_Name={1:\"MODERNO\",2:\"TRADICIONAL\",7:\"TIENDAS DE BELLEZA\",8:\"PROFESIONAL\",12:\"INSTITUCIONAL\",14:\"HARD DISCOUNTERS\",15:\"ECOMMERCE\",19:\"ALTERNATIVO\",50:\"ALMACENES INTERNOS\"}\n",
    "\n",
    "#Aplicar transformacion\n",
    "Data_ZSD110_MERCADEO[\"Can.distr.\"]=Data_ZSD110_MERCADEO[\"Can.distr.\"].replace(Channels_Name)\n",
    "Data_ZSD110_FIRME[\"Can.distr.\"]=Data_ZSD110_FIRME[\"Can.distr.\"].replace(Channels_Name)\n",
    "Data_ZSD110_PENDIENTES[\"Can.distr.\"]=Data_ZSD110_PENDIENTES[\"Can.distr.\"].replace(Channels_Name)"
   ]
  },
  {
   "cell_type": "code",
   "execution_count": 238,
   "metadata": {},
   "outputs": [],
   "source": [
    "#Estandarizo Datos\n",
    "# Cambio a valores Numericos Mercadeo\n",
    "Data_ZSD110_MERCADEO['Pedidos'],Data_ZSD110_MERCADEO['Unidades'],Data_ZSD110_MERCADEO['Valor Neto']=Funtions.Clean_Num_List(Data_ZSD110_MERCADEO['Pedidos'],Data_ZSD110_MERCADEO['Unidades'],Data_ZSD110_MERCADEO['Valor Neto'])\n",
    "# Cambio a valores Numericos Firme\n",
    "Data_ZSD110_FIRME['Pedidos'],Data_ZSD110_FIRME['Unidades'],Data_ZSD110_FIRME['Valor Neto']=Funtions.Clean_Num_List(Data_ZSD110_FIRME['Pedidos'],Data_ZSD110_FIRME['Unidades'],Data_ZSD110_FIRME['Valor Neto'])\n",
    "# Cambio a valores Numericos Pendiente Total\n",
    "Data_ZSD110_PENDIENTES['Pedidos'],Data_ZSD110_PENDIENTES['Unidades'],Data_ZSD110_PENDIENTES['Valor Neto']=Funtions.Clean_Num_List(Data_ZSD110_PENDIENTES['Pedidos'],Data_ZSD110_PENDIENTES['Unidades'],Data_ZSD110_PENDIENTES['Valor Neto'])"
   ]
  },
  {
   "cell_type": "code",
   "execution_count": 239,
   "metadata": {},
   "outputs": [],
   "source": [
    "#Aplicar consolidado de todas las tablas Mercadeo Firme Total\n",
    "Consolidado_Mercadeo_Firme_Total=pd.merge(pd.merge(Data_ZSD110_MERCADEO,Data_ZSD110_FIRME,how=\"right\",on=\"Can.distr.\"),Data_ZSD110_PENDIENTES,how=\"right\",on=\"Can.distr.\")\n",
    "Consolidado_Mercadeo_Firme_Total=Consolidado_Mercadeo_Firme_Total.fillna(0)\n",
    "Consolidado_Mercadeo_Firme_Total['Can.distr.']=Consolidado_Mercadeo_Firme_Total['Can.distr.'].replace({0:\"TOTAL\"})"
   ]
  },
  {
   "cell_type": "code",
   "execution_count": 240,
   "metadata": {},
   "outputs": [],
   "source": [
    "Consolidado_Mercadeo_Firme_Total\n",
    "Column_Consolidado_Mercadeo_Firme_Total=['Can.distr.', 'Pedidos M', 'Lineas M', 'Unidades M', 'Valor Neto M',\n",
    "       'Pedidos F', 'Lineas F', 'Unidades F', 'Valor Neto F', 'Pedidos T',\n",
    "       'Lineas T', 'Unidades T', 'Valor Neto T']\n",
    "\n",
    "Consolidado_Clientes=Funtions.default_column(Column_Consolidado_Mercadeo_Firme_Total,Consolidado_Mercadeo_Firme_Total)"
   ]
  },
  {
   "cell_type": "code",
   "execution_count": 241,
   "metadata": {},
   "outputs": [],
   "source": [
    "#Creo tabla total de la linea de clientes\n",
    "\n",
    "Datos_lineas_clientes=pd.DataFrame([[1,\"ECOMMERCE\",0],[2,\"Cencosud\",0],[3,\"Éxito Agenda\",0],\n",
    "              [4,\"Canal 1\",0],[5,\"Canales 2,7,8\",0],[6,\"BAZAR\",0],[7,\"Mercadeo\",0],\n",
    "              [8,\"Canales 14, 19 Citas\",0],[9,\"Extra agenda\",0]],columns=[\"Prioridad\",\"Clientes\",\"Cantidad\"])"
   ]
  },
  {
   "cell_type": "code",
   "execution_count": 242,
   "metadata": {},
   "outputs": [
    {
     "data": {
      "text/plain": [
       "'ECOMMERCE'"
      ]
     },
     "execution_count": 242,
     "metadata": {},
     "output_type": "execute_result"
    }
   ],
   "source": [
    "#Linea Ecommerce\n",
    "Datos_lineas_clientes['Clientes'][0]"
   ]
  },
  {
   "cell_type": "code",
   "execution_count": 243,
   "metadata": {},
   "outputs": [],
   "source": [
    "valor=Consolidado_Clientes[Consolidado_Clientes[\"Can.distr.\"]=='ECOMMERCE']['Lineas F'].values[0] if 'ECOMMERCE' in Consolidado_Clientes[\"Can.distr.\"].to_list() else 0"
   ]
  },
  {
   "cell_type": "code",
   "execution_count": 244,
   "metadata": {},
   "outputs": [
    {
     "data": {
      "text/plain": [
       "230.0"
      ]
     },
     "execution_count": 244,
     "metadata": {},
     "output_type": "execute_result"
    }
   ],
   "source": [
    "Consolidado_Clientes[Consolidado_Clientes[\"Can.distr.\"]=='ECOMMERCE']['Lineas F'].values[0]"
   ]
  },
  {
   "cell_type": "code",
   "execution_count": 245,
   "metadata": {},
   "outputs": [
    {
     "data": {
      "text/plain": [
       "6    230.0\n",
       "Name: Lineas F, dtype: float64"
      ]
     },
     "execution_count": 245,
     "metadata": {},
     "output_type": "execute_result"
    }
   ],
   "source": [
    "Consolidado_Clientes[Consolidado_Clientes[\"Can.distr.\"]=='ECOMMERCE']['Lineas F']"
   ]
  },
  {
   "attachments": {},
   "cell_type": "markdown",
   "metadata": {},
   "source": [
    "# Dash board"
   ]
  },
  {
   "cell_type": "code",
   "execution_count": 246,
   "metadata": {},
   "outputs": [],
   "source": [
    "def Create_Table(Table,Name_id,fontSize='11px'):\n",
    "    \"\"\"\n",
    "    - Table: Dataframe referencia a tabla\n",
    "    - Name_id: Id de la tabla\n",
    "    - Alias_libreria: Libreria Dash dash_table as dt\n",
    "    \"\"\" \n",
    "    Tabla=dt.DataTable(\n",
    "            id=Name_id,\n",
    "            columns=[{\"name\": i, \"id\": i} for i in Table.columns],\n",
    "            data=Table.to_dict(\"records\"),\n",
    "            style_data={\n",
    "            'fontSize':fontSize\n",
    "            },\n",
    "            style_table={\n",
    "                'margin': '0 auto',\n",
    "                'border': '1px solid black',\n",
    "                'borderCollapse': 'collapse'\n",
    "            },\n",
    "            style_header={\n",
    "                'fontSize':fontSize,\n",
    "                'backgroundColor': '#4074D5',\n",
    "                'fontWeight': 'bold',\n",
    "                'border': '1px solid black'\n",
    "            },\n",
    "            style_cell={\n",
    "                'textAlign': 'center',\n",
    "                'border': '1px solid black',\n",
    "                'padding': '2px',\n",
    "                'width': '15px'\n",
    "            },\n",
    "            )\n",
    "    return(Tabla)\n",
    "\n",
    "def Create_Dropdown(Column_Table,Estados,Name_id):\n",
    "        Dropdown=dcc.Dropdown(\n",
    "                        id=Name_id,\n",
    "                        options=[{\"label\": st, \"value\": st} for st in Estados],\n",
    "                        placeholder=\"-Select a State-\",\n",
    "                        multi=True,\n",
    "                        value=Column_Table.unique())\n",
    "        return(Dropdown)\n",
    "\n",
    "\n",
    "def data_bars(df, column):\n",
    "    n_bins = 100\n",
    "    bounds = [i * (1.0 / n_bins) for i in range(n_bins + 1)]\n",
    "    ranges = [\n",
    "        ((df[column].sum() - df[column].min()) * i)\n",
    "        for i in bounds\n",
    "    ]\n",
    "    styles = []\n",
    "    \n",
    "    for i in range(1, len(bounds)):\n",
    "        min_bound = ranges[i - 1]\n",
    "        max_bound = ranges[i]\n",
    "        max_bound_percentage = bounds[i] * 100\n",
    "        styles.append({\n",
    "            'if': {\n",
    "                'filter_query': (\n",
    "                    '{{{column}}} >= {min_bound}' +\n",
    "                    (' && {{{column}}} < {max_bound}' if (i < len(bounds) - 1) else '')\n",
    "                ).format(column=column, min_bound=min_bound, max_bound=max_bound),\n",
    "                'column_id': column\n",
    "            },\n",
    "            'background': (\n",
    "                \"\"\"\n",
    "                    linear-gradient(90deg,\n",
    "                    #2FCF7F 0%,\n",
    "                    #2FCF7F {max_bound_percentage}%,\n",
    "                    white {max_bound_percentage}%,\n",
    "                    white 100%)\n",
    "                \"\"\".format(max_bound_percentage=max_bound_percentage)\n",
    "            ),\n",
    "            'paddingBottom': 2,\n",
    "            'paddingTop': 2\n",
    "        })\n",
    "\n",
    "    return styles\n",
    "\n",
    "def Create_Table_Condition(df,Name_id,columns,fontSize='11px'):\n",
    "    table=  dt.DataTable(id=Name_id,\n",
    "            data=df.to_dict('records'),\n",
    "            sort_action='native',\n",
    "            columns=[{'name': i, 'id': i} for i in df.columns],\n",
    "            style_data_conditional=(\n",
    "                data_bars(df,columns)\n",
    "            ),\n",
    "            style_data={\n",
    "                'fontSize':fontSize\n",
    "            },\n",
    "            style_table={\n",
    "                'margin': '0 auto',\n",
    "                'border': '1px solid black',\n",
    "                'borderCollapse': 'collapse'\n",
    "            },\n",
    "            style_header={\n",
    "                'fontSize':fontSize,\n",
    "                'backgroundColor': '#4074D5',\n",
    "                'fontWeight': 'bold',\n",
    "                'border': '1px solid black'\n",
    "            },\n",
    "            style_cell={\n",
    "                'textAlign': 'center',\n",
    "                'border': '1px solid black',\n",
    "                'padding': '5px',\n",
    "                'width': '20px'\n",
    "            },\n",
    "            page_size=20\n",
    "        )\n",
    "    return(table)"
   ]
  },
  {
   "cell_type": "code",
   "execution_count": 247,
   "metadata": {},
   "outputs": [],
   "source": [
    "Columns_Consolidado_Clientes=['Pedidos M', 'Lineas M', 'Unidades M', 'Valor Neto M',\n",
    "       'Pedidos F', 'Lineas F', 'Unidades F', 'Valor Neto F', 'Pedidos T',\n",
    "       'Lineas T', 'Unidades T', 'Valor Neto T']\n",
    "Total_Consolidado_Clientes=Consolidado_Clientes[Consolidado_Clientes['Can.distr.']=='TOTAL']\n",
    "Consolidado_Clientes=Consolidado_Clientes[Consolidado_Clientes['Can.distr.']!='TOTAL']"
   ]
  },
  {
   "cell_type": "code",
   "execution_count": 248,
   "metadata": {},
   "outputs": [],
   "source": [
    "def Total_Consolidado(Consolidado_Clientes,Columns_Consolidado_Clientes,Total_Consolidado_Clientes):\n",
    "    Diccionario_Total_Consolidado_Clientes=Total_Consolidado_Clientes.to_dict('records')[0]\n",
    "    for i in Columns_Consolidado_Clientes:\n",
    "        Diccionario_Total_Consolidado_Clientes[i]=Consolidado_Clientes[i].sum()\n",
    "    Consolidado_Clientes=Consolidado_Clientes.to_dict(\"records\")\n",
    "    Consolidado_Clientes.append(Diccionario_Total_Consolidado_Clientes)\n",
    "    return(Consolidado_Clientes)\n"
   ]
  },
  {
   "cell_type": "code",
   "execution_count": 249,
   "metadata": {},
   "outputs": [],
   "source": [
    "def Create_figure(Dataframe,Column_X,list_column_y):\n",
    "    Channels = Dataframe[Column_X].unique().tolist()\n",
    "\n",
    "    fig = go.Figure()\n",
    "    fig.add_trace(go.Bar(\n",
    "        x=Channels,\n",
    "        y=Dataframe[list_column_y[0]].tolist(),\n",
    "        name='Pedidos',\n",
    "        marker_color='indianred'\n",
    "    ))\n",
    "        # Establecer el diseño del gráfico\n",
    "    fig.add_trace(go.Bar(\n",
    "        x=Channels,\n",
    "        y=Dataframe[list_column_y[1]].tolist(),\n",
    "        name='Lineas',\n",
    "        marker_color='lightsalmon'\n",
    "    ))\n",
    "    fig.add_trace(go.Bar(\n",
    "        x=Channels,\n",
    "        y=Dataframe[list_column_y[2]].tolist(),\n",
    "        name='Unidades',\n",
    "        marker_color='blue'\n",
    "    ))\n",
    "    # Here we modify the tickangle of the xaxis, resulting in rotated labels.\n",
    "    fig.update_layout(barmode='group', xaxis_tickangle=-45,margin=dict(l=0, r=0, t=30, b=0))\n",
    "    return(fig)"
   ]
  },
  {
   "attachments": {},
   "cell_type": "markdown",
   "metadata": {},
   "source": [
    "# Primer parte con reporte de procesos diarios ZSD10 y ZD79\n"
   ]
  },
  {
   "cell_type": "code",
   "execution_count": 250,
   "metadata": {},
   "outputs": [],
   "source": [
    "Reporte_Procesos_Diarios=pd.read_csv(\"C:\\\\Users\\\\practicante.picking\\\\OneDrive - Prebel S.A\\\\Escritorio\\\\bot_picking\\\\Archivos_CSV\\\\Tabla_Consolidado_Diaria.txt\",delimiter='\\t')"
   ]
  },
  {
   "cell_type": "code",
   "execution_count": 251,
   "metadata": {},
   "outputs": [],
   "source": [
    "transsaccion_ZSD10=\"ZSD10\"\n",
    "provision_ZSD10=\"PEDIDOS\"\n",
    "variant_ZSD10=\"JESPINOSAP\"\n",
    "\n",
    "\n",
    "\n",
    "\n",
    "def Search_ZSD10(transsaccion,Series,variant,provision,session):\n",
    "    \"\"\"\n",
    "    Transsaccion: Transsacion a buscar\n",
    "    Series: Columna del dataframe que quiero copiar\n",
    "    session: session del usuario\n",
    "    variant: Variante a buscar\n",
    "    provision: disposicion de interes\n",
    "    session: session activa\n",
    "    \"\"\"\n",
    "    session.StartTransaction(transsaccion)\n",
    "    session.findById(\"wnd[0]/tbar[1]/btn[17]\").press()\n",
    "    session.findById(\"wnd[1]/usr/txtV-LOW\").text = provision\n",
    "    session.findById(\"wnd[1]/usr/txtENAME-LOW\").text = variant\n",
    "    session.findById(\"wnd[1]/usr/txtV-LOW\").caretPosition = 8\n",
    "    session.findById(\"wnd[1]/tbar[0]/btn[8]\").press()\n",
    "    Series=Series.to_clipboard(index=False, header=False)\n",
    "    session.findById(\"wnd[0]/usr/btn%_SP$00013_%_APP_%-VALU_PUSH\").press()\n",
    "    session.findById(\"wnd[1]/tbar[0]/btn[24]\").press()\n",
    "    session.findById(\"wnd[1]/tbar[0]/btn[8]\").press()\n",
    "    session.findById(\"wnd[0]/tbar[1]/btn[8]\").press()\n",
    "    try:\n",
    "        tabla=session.findById(\"wnd[0]/usr/cntlCONTAINER/shellcont/shell\")\n",
    "        return(tabla)\n",
    "    except:\n",
    "        return(session)"
   ]
  },
  {
   "cell_type": "code",
   "execution_count": 252,
   "metadata": {},
   "outputs": [],
   "source": [
    "#Search_ZSD10(transsaccion_ZSD10,Reporte_Procesos_Diarios['Nº Pedido cliente'],variant_ZSD10,provision_ZSD10,session)"
   ]
  },
  {
   "attachments": {},
   "cell_type": "markdown",
   "metadata": {},
   "source": [
    "# Puedo omitir este paso y con otro posterior"
   ]
  },
  {
   "cell_type": "code",
   "execution_count": 253,
   "metadata": {},
   "outputs": [],
   "source": [
    "Ruta_ZSD10_Total_Exito=\"C:\\\\Users\\\\practicante.picking\\\\OneDrive - Prebel S.A\\\\Escritorio\\\\bot_picking\\\\Archivos_CSV\\\\\"\n",
    "Name_ZSD10_Total_Pedidos=\"Lineas_Exto\"\n",
    "#SAP_GUI.Export_TXT2(Name_ZSD10_Total_Pedidos,session,Ruta_ZSD10_Total_Exito)"
   ]
  },
  {
   "cell_type": "code",
   "execution_count": 254,
   "metadata": {},
   "outputs": [],
   "source": [
    "# Pedidos_Dia_ZSD10=pd.read_csv(Ruta_ZSD10_Total_Exito+Name_ZSD10_Total_Pedidos+'.txt',skiprows=5,delimiter='\\t')\n",
    "# Pedidos_Dia_ZSD10=Funtions.Clean_Columns(Pedidos_Dia_ZSD10)\n",
    "# Pedidos_Dia_ZSD10=Funtions.default_column(Columns_Data_ZSD10,Pedidos_Dia_ZSD10)\n",
    "# Pedidos_Dia_ZSD10=Pedidos_Dia_ZSD10[Pedidos_Dia_ZSD10[\"Doc.venta\"].notnull()]    #Elimino espacios vacios \n",
    "# Pedidos_Dia_ZSD10[\"Doc.venta\"]=Funtions.Clean_int_to_str(Pedidos_Dia_ZSD10[\"Doc.venta\"])   #Combierto columna"
   ]
  },
  {
   "cell_type": "code",
   "execution_count": 255,
   "metadata": {},
   "outputs": [],
   "source": [
    "transsaccion_ZSD76=\"ZSD76\"\n",
    "provision_ZSD76=\"PEDIDOS\"\n",
    "variant_ZSD76=\"JESPINOSAP\""
   ]
  },
  {
   "cell_type": "code",
   "execution_count": 256,
   "metadata": {},
   "outputs": [],
   "source": [
    "def Search_ZSD76(transsaccion,Series,session):\n",
    "    \"\"\"\n",
    "    Transsaccion: Transsacion a buscar\n",
    "    Series: Columna del dataframe que quiero copiar\n",
    "    session: session del usuario\n",
    "    \"\"\"\n",
    "    session.StartTransaction(transsaccion)\n",
    "    Series=Series.to_clipboard(index=False, header=False)\n",
    "    session.findById(\"wnd[0]/usr/btn%_SP$00010_%_APP_%-VALU_PUSH\").press()\n",
    "    session.findById(\"wnd[1]/tbar[0]/btn[24]\").press()\n",
    "    session.findById(\"wnd[1]/tbar[0]/btn[8]\").press()\n",
    "    session.findById(\"wnd[0]/tbar[1]/btn[8]\").press()\n",
    "    try:\n",
    "        tabla=session.findById(\"wnd[0]/usr/cntlCONTAINER/shellcont/shell\")\n",
    "        return(tabla)\n",
    "    except:\n",
    "        return(session)"
   ]
  },
  {
   "cell_type": "code",
   "execution_count": 257,
   "metadata": {},
   "outputs": [],
   "source": [
    "#tabla=Search_ZSD76(transsaccion_ZSD76,Pedidos_Dia_ZSD10[\"Doc.venta\"].drop_duplicates(),session)"
   ]
  },
  {
   "cell_type": "code",
   "execution_count": 258,
   "metadata": {},
   "outputs": [],
   "source": [
    "#Pedidos_Dia_ZSD10[\"Doc.venta\"]"
   ]
  },
  {
   "cell_type": "code",
   "execution_count": 259,
   "metadata": {},
   "outputs": [],
   "source": [
    "# Ruta_ZSD10_Detalle_Entregas=\"Archivos_CSV_Martes\\\\\"\n",
    "# Name_ZSD10_Detalle_Entregas=\"Detalle_Entregas_ZSD76\"\n",
    "# #SAP_GUI.Export_TXT2(Name_ZSD10_Detalle_Entregas,session,Ruta_ZSD10_Detalle_Entregas)\n",
    "# #SAP_GUI.Export_TXT(Name_ZSD10_Detalle_Entregas,session,Ruta_ZSD10_Detalle_Entregas)\n",
    "# Ruta_ZSD10_Detalle_Entregas+Name_ZSD10_Detalle_Entregas+\".txt\""
   ]
  },
  {
   "cell_type": "markdown",
   "metadata": {},
   "source": [
    "# Finaliza"
   ]
  },
  {
   "cell_type": "code",
   "execution_count": 260,
   "metadata": {},
   "outputs": [],
   "source": [
    "# Detalle_Entregas=pd.read_csv(Ruta_ZSD10_Detalle_Entregas+Name_ZSD10_Detalle_Entregas+\".txt\",skiprows=5,delimiter='\\t')\n",
    "# Detalle_Entregas=Funtions.Clean_Columns(Detalle_Entregas)\n",
    "# Detalle_Entregas=Funtions.default_column(Column_Data_ZSD76,Detalle_Entregas)\n",
    "# Detalle_Entregas=Detalle_Entregas[Detalle_Entregas[\"Solic.\"].notnull()]"
   ]
  },
  {
   "attachments": {},
   "cell_type": "markdown",
   "metadata": {},
   "source": [
    "# Tener presente para lineas total exito"
   ]
  },
  {
   "cell_type": "code",
   "execution_count": 261,
   "metadata": {},
   "outputs": [],
   "source": [
    "# Lineas_Total_Exito=Detalle_Entregas.groupby(\"Cantidad entrega\").count()[\"Solic.\"].sum()"
   ]
  },
  {
   "cell_type": "code",
   "execution_count": 262,
   "metadata": {},
   "outputs": [],
   "source": [
    "# Lineas_Total_Exito"
   ]
  },
  {
   "attachments": {},
   "cell_type": "markdown",
   "metadata": {},
   "source": [
    "# Reporte de materias"
   ]
  },
  {
   "cell_type": "code",
   "execution_count": 263,
   "metadata": {},
   "outputs": [],
   "source": [
    "transsaccion=\"ZSD035D\"\n",
    "variant=\"JESPINOSAP\"\n",
    "provision=\"INFORME FACTU\""
   ]
  },
  {
   "cell_type": "code",
   "execution_count": 264,
   "metadata": {},
   "outputs": [],
   "source": [
    "Un_dia_atras=(datetime.now()-timedelta(days=1)).date()\n",
    "Un_dia_atras=Funtions.stand_day(Un_dia_atras)\n",
    "#SAP_GUI.Search_ZSD035D(transsaccion,session,provision,Un_dia_atras,variant)\n",
    "# Pendiente Firme\n",
    "Name_ZSD035D=\"Pendiente_Clientes\"  # Revisar suele no guardar\n",
    "#SAP_GUI.Export_TXT2(Name_ZSD035D,session)"
   ]
  },
  {
   "cell_type": "code",
   "execution_count": 265,
   "metadata": {},
   "outputs": [],
   "source": [
    "# Pendiente Firme\n",
    "url_ZSD035D=\"C:\\\\Users\\\\practicante.picking\\\\OneDrive - Prebel S.A\\\\Escritorio\\\\bot_picking\\\\Archivos_CSV\\\\\"+str(Name_ZSD035D)+\".txt\"\n",
    "Data_ZSD035D=pd.read_csv(url_ZSD035D,skiprows=5,delimiter=\"\\t\")\n",
    "Data_ZSD035D=Funtions.Clean_Columns(Data_ZSD035D)\n",
    "Data_ZSD035D=Data_ZSD035D[Data_ZSD035D['Material'].notnull()]\n",
    "try:\n",
    "    Data_ZSD035D[\"Lineas\"]=Data_ZSD035D[\"Lineas\"].apply(lambda x:Funtions.Clean_num(x))    \n",
    "except:\n",
    "    pass\n",
    "#Tener encuenta esta lineas puede este en dato numerico"
   ]
  },
  {
   "cell_type": "code",
   "execution_count": 266,
   "metadata": {},
   "outputs": [],
   "source": [
    "#Limpio datos de la columnas a numeros\n",
    "\n",
    "Data_ZSD035D['Cantidad'], Data_ZSD035D['Valor Neto']= Funtions.Clean_Num_List(Data_ZSD035D['Cantidad'],Data_ZSD035D['Valor Neto'])"
   ]
  },
  {
   "cell_type": "code",
   "execution_count": 267,
   "metadata": {},
   "outputs": [
    {
     "data": {
      "text/html": [
       "<div>\n",
       "<style scoped>\n",
       "    .dataframe tbody tr th:only-of-type {\n",
       "        vertical-align: middle;\n",
       "    }\n",
       "\n",
       "    .dataframe tbody tr th {\n",
       "        vertical-align: top;\n",
       "    }\n",
       "\n",
       "    .dataframe thead th {\n",
       "        text-align: right;\n",
       "    }\n",
       "</style>\n",
       "<table border=\"1\" class=\"dataframe\">\n",
       "  <thead>\n",
       "    <tr style=\"text-align: right;\">\n",
       "      <th></th>\n",
       "      <th>CDis</th>\n",
       "      <th>Pedido</th>\n",
       "      <th>Material</th>\n",
       "      <th>Cantidad</th>\n",
       "      <th>Valor Neto</th>\n",
       "    </tr>\n",
       "  </thead>\n",
       "  <tbody>\n",
       "    <tr>\n",
       "      <th>0</th>\n",
       "      <td>15.0</td>\n",
       "      <td>88</td>\n",
       "      <td>88</td>\n",
       "      <td>108.0</td>\n",
       "      <td>1708761.0</td>\n",
       "    </tr>\n",
       "  </tbody>\n",
       "</table>\n",
       "</div>"
      ],
      "text/plain": [
       "   CDis  Pedido  Material  Cantidad  Valor Neto\n",
       "0  15.0      88        88     108.0   1708761.0"
      ]
     },
     "execution_count": 267,
     "metadata": {},
     "output_type": "execute_result"
    }
   ],
   "source": [
    "#Canal01_Entregado_Exluido.pivot_table(,,['Material', 'Valor Neto'])\n",
    "\n",
    "Table_Data_ZSD035D=Data_ZSD035D.pivot_table(index=['CDis'],aggfunc={'Material':'count','Pedido':'count','Valor Neto':sum,'Cantidad':sum}).reset_index()[['CDis','Pedido', 'Material', 'Cantidad', 'Valor Neto']]\n",
    "Table_Data_ZSD035D=Funtions.Clean_Columns(Table_Data_ZSD035D)\n",
    "\n",
    "Table_Data_ZSD035D"
   ]
  },
  {
   "cell_type": "code",
   "execution_count": 268,
   "metadata": {},
   "outputs": [],
   "source": [
    "# Debo de filtrar por ZVMI y exito y cencusub del día anterior  \n",
    "\n",
    "\"\"\"Tendria que usar el excel de sharepoint como sugerencia\"\"\"\n",
    "\n",
    "filtro_ZVMI_Exito=Tabla_Agenda_Exito[\"Clase Pedido\"]==\"ZVMI\"\n",
    "filtro_ZVMI_Cencosub=Tabla_Agenda_Cencusub[\"Clase Pedido\"]==\"ZVMI\"\n",
    "\n",
    "Tabla_Agenda_Exito_ZVMI=Tabla_Agenda_Exito.loc[filtro_ZVMI_Exito]\n",
    "Tabla_Agenda_Cencosub_ZVMI=Tabla_Agenda_Cencusub.loc[filtro_ZVMI_Cencosub]"
   ]
  },
  {
   "cell_type": "markdown",
   "metadata": {},
   "source": [
    "# revisar tablas cencosub"
   ]
  },
  {
   "cell_type": "code",
   "execution_count": 269,
   "metadata": {},
   "outputs": [],
   "source": [
    "Lineas_Tabla_Agenda_Exito_ZVMI=Tabla_Agenda_Exito_ZVMI[\"Cantidad\"].sum()\n",
    "Lineas_Tabla_Agenda_Cencosub_ZVMI=Tabla_Agenda_Cencosub_ZVMI[\"Cantidad\"].sum()\n",
    "Unidades_Tabla_Agenda_Exito_ZVMI=Tabla_Agenda_Exito_ZVMI.Material.sum()\n",
    "Unidades_Tabla_Agenda_Cencosub_ZVMI=Tabla_Agenda_Cencosub_ZVMI.Material.sum()\n",
    "Valor_neto_Tabla_Agenda_Exito_ZVMI=Tabla_Agenda_Exito_ZVMI[\"Valor Neto\"].sum()\n",
    "Valor_neto_Tabla_Agenda_Cencosub_ZVMI=Tabla_Agenda_Cencosub_ZVMI[\"Valor Neto\"].sum()"
   ]
  },
  {
   "cell_type": "code",
   "execution_count": 270,
   "metadata": {},
   "outputs": [
    {
     "data": {
      "text/plain": [
       "'C:\\\\Users\\\\practicante.picking\\\\OneDrive - Prebel S.A\\\\Escritorio\\\\bot_picking\\\\Archivos_CSV\\\\Pedidos pendientes Exito y Cencosub.txt'"
      ]
     },
     "execution_count": 270,
     "metadata": {},
     "output_type": "execute_result"
    }
   ],
   "source": [
    "url_ZSD037_Pedidos_Exito_Cencosub"
   ]
  },
  {
   "cell_type": "code",
   "execution_count": 271,
   "metadata": {},
   "outputs": [],
   "source": [
    "# ZSD110 FIRME\n",
    "url_ZSD037_Pedidos_Exito_Cencosub=\"C:\\\\Users\\\\practicante.picking\\\\OneDrive - Prebel S.A\\\\Escritorio\\\\bot_picking\\\\Archivos_CSV\\\\\"+str(Name_ZSD037)+\".txt\"\n",
    "\n",
    "Data_ZSD110_Pedidos_Exito_Cencosub=pd.read_csv(url_ZSD037_Pedidos_Exito_Cencosub,skiprows=5,delimiter=\"\\t\")\n",
    "Data_ZSD110_Pedidos_Exito_Cencosub=Funtions.Clean_Columns(Data_ZSD110_Pedidos_Exito_Cencosub)\n",
    "Data_ZSD110_Pedidos_Exito_Cencosub=Funtions.default_column(default_column_Pedidos,Data_ZSD110_Pedidos_Exito_Cencosub)\n",
    "Data_ZSD110_Pedidos_Exito_Cencosub=Data_ZSD110_Pedidos_Exito_Cencosub[Data_ZSD110_Pedidos_Exito_Cencosub['Nº pedido cliente'].notnull()]"
   ]
  },
  {
   "cell_type": "code",
   "execution_count": 272,
   "metadata": {},
   "outputs": [],
   "source": [
    "# Data_ZSD110_Pedidos_Exito_Cencosub.columns"
   ]
  },
  {
   "cell_type": "code",
   "execution_count": 273,
   "metadata": {},
   "outputs": [],
   "source": [
    "# #Estandarizo los pedidos del Exito\n",
    "# Data_ZSD110_Pedidos_Exito_Cencosub[\"Nº de cliente\"]=Funtions.Clean_int_to_str(Data_ZSD110_Pedidos_Exito_Cencosub[\"Nº de cliente\"])\n",
    "# Data_ZSD110_Pedidos_Exito_Cencosub[\"Nº de cliente\"]=Funtions.complete_pedidos(Data_ZSD110_Pedidos_Exito_Cencosub[\"Nº de cliente\"],Agenda)"
   ]
  },
  {
   "cell_type": "code",
   "execution_count": 274,
   "metadata": {},
   "outputs": [],
   "source": [
    "Tabla_Agenda_Exito_ZVMI[\"Nº pedido cliente\"].to_clipboard(index=False, header=False)"
   ]
  },
  {
   "cell_type": "code",
   "execution_count": 275,
   "metadata": {},
   "outputs": [],
   "source": [
    "Tabla_Agenda_Exito_Cencosub_ZVMI=pd.concat([Tabla_Agenda_Exito_ZVMI[\"Nº pedido cliente\"],Tabla_Agenda_Cencosub_ZVMI[\"Nº pedido cliente\"]])"
   ]
  },
  {
   "cell_type": "code",
   "execution_count": 276,
   "metadata": {},
   "outputs": [
    {
     "data": {
      "text/plain": [
       "Series([], Name: Nº pedido cliente, dtype: object)"
      ]
     },
     "execution_count": 276,
     "metadata": {},
     "output_type": "execute_result"
    }
   ],
   "source": [
    "Tabla_Agenda_Exito_Cencosub_ZVMI"
   ]
  },
  {
   "cell_type": "code",
   "execution_count": 280,
   "metadata": {},
   "outputs": [
    {
     "ename": "NameError",
     "evalue": "name 'session' is not defined",
     "output_type": "error",
     "traceback": [
      "\u001b[1;31m---------------------------------------------------------------------------\u001b[0m",
      "\u001b[1;31mNameError\u001b[0m                                 Traceback (most recent call last)",
      "Cell \u001b[1;32mIn[280], line 37\u001b[0m\n\u001b[0;32m     34\u001b[0m Name_ZSD010_Exito_Cencosub_ZVMI\u001b[39m=\u001b[39m\u001b[39m\"\u001b[39m\u001b[39mExito_Cencosub_ZVMI\u001b[39m\u001b[39m\"\u001b[39m\n\u001b[0;32m     35\u001b[0m Ruta_Exito_ZSD010_ZVMI\u001b[39m=\u001b[39m\u001b[39m\"\u001b[39m\u001b[39mC:\u001b[39m\u001b[39m\\\\\u001b[39;00m\u001b[39mUsers\u001b[39m\u001b[39m\\\\\u001b[39;00m\u001b[39mpracticante.picking\u001b[39m\u001b[39m\\\\\u001b[39;00m\u001b[39mOneDrive - Prebel S.A\u001b[39m\u001b[39m\\\\\u001b[39;00m\u001b[39mEscritorio\u001b[39m\u001b[39m\\\\\u001b[39;00m\u001b[39mbot_picking\u001b[39m\u001b[39m\\\\\u001b[39;00m\u001b[39mArchivos_CSV\u001b[39m\u001b[39m\\\\\u001b[39;00m\u001b[39m\"\u001b[39m\n\u001b[1;32m---> 37\u001b[0m SAP_GUI\u001b[39m.\u001b[39mExport_TXT2(Name_ZSD010_Exito_Cencosub_ZVMI,session,Ruta_Exito_ZSD010_ZVMI)\n",
      "\u001b[1;31mNameError\u001b[0m: name 'session' is not defined"
     ]
    }
   ],
   "source": [
    "transsaccion_ZSD10=\"ZSD10\"\n",
    "provision_ZSD10=\"PEDIDOS\"\n",
    "variant_ZSD10=\"JESPINOSAP\"\n",
    "\n",
    "\n",
    "def Search_ZSD10(transsaccion,Series,variant,provision,session):\n",
    "    \"\"\"\n",
    "    Transsaccion: Transsacion a buscar\n",
    "    Series: Columna del dataframe que quiero \n",
    "    session: session del usuario\n",
    "    variant: Variante a buscar\n",
    "    provision: disposicion de interes\n",
    "    session: session activa\n",
    "    \"\"\"\n",
    "    session.StartTransaction(transsaccion)\n",
    "    session.findById(\"wnd[0]/tbar[1]/btn[17]\").press()\n",
    "    session.findById(\"wnd[1]/usr/txtV-LOW\").text = provision\n",
    "    session.findById(\"wnd[1]/usr/txtENAME-LOW\").text = variant\n",
    "    session.findById(\"wnd[1]/usr/txtV-LOW\").caretPosition = 8\n",
    "    session.findById(\"wnd[1]/tbar[0]/btn[8]\").press()\n",
    "    Series=Series.to_clipboard(index=False, header=False)\n",
    "    session.findById(\"wnd[0]/usr/btn%_SP$00013_%_APP_%-VALU_PUSH\").press()\n",
    "    session.findById(\"wnd[1]/tbar[0]/btn[24]\").press()\n",
    "    session.findById(\"wnd[1]/tbar[0]/btn[8]\").press()\n",
    "    session.findById(\"wnd[0]/tbar[1]/btn[8]\").press()\n",
    "    try:\n",
    "        tabla=session.findById(\"wnd[0]/usr/cntlCONTAINER/shellcont/shell\")\n",
    "        return(tabla)\n",
    "    except:\n",
    "        return(session)\n",
    "\n",
    "\n",
    "#Search_ZSD10(transsaccion_ZSD10,Tabla_Agenda_Exito_Cencosub_ZVMI,variant_ZSD10,provision_ZSD10,session)\n",
    "Name_ZSD010_Exito_Cencosub_ZVMI=\"Exito_Cencosub_ZVMI\"\n",
    "Ruta_Exito_ZSD010_ZVMI=\"C:\\\\Users\\\\practicante.picking\\\\OneDrive - Prebel S.A\\\\Escritorio\\\\bot_picking\\\\Archivos_CSV\\\\\"\n",
    "\n",
    "SAP_GUI.Export_TXT2(Name_ZSD010_Exito_Cencosub_ZVMI,session,Ruta_Exito_ZSD010_ZVMI)\n"
   ]
  },
  {
   "cell_type": "code",
   "execution_count": null,
   "metadata": {},
   "outputs": [
    {
     "ename": "FileNotFoundError",
     "evalue": "[Errno 2] No such file or directory: 'C:\\\\Users\\\\practicante.picking\\\\OneDrive - Prebel S.A\\\\Escritorio\\\\bot_picking\\\\Archivos_CSV\\\\Archivos_CSV\\\\Exito_Cencosub_ZVMI.txt'",
     "output_type": "error",
     "traceback": [
      "\u001b[1;31m---------------------------------------------------------------------------\u001b[0m",
      "\u001b[1;31mFileNotFoundError\u001b[0m                         Traceback (most recent call last)",
      "Cell \u001b[1;32mIn[147], line 4\u001b[0m\n\u001b[0;32m      1\u001b[0m \u001b[39m# Exportar de la transsaccion ZSD10 exporta los archivos\u001b[39;00m\n\u001b[0;32m      3\u001b[0m url_ZSD10_Exito_Cencosub_ZVMI\u001b[39m=\u001b[39mRuta_Exito_ZSD010_ZVMI\u001b[39m+\u001b[39mName_ZSD010_Exito_Cencosub_ZVMI\u001b[39m+\u001b[39m\u001b[39m\"\u001b[39m\u001b[39m.txt\u001b[39m\u001b[39m\"\u001b[39m\n\u001b[1;32m----> 4\u001b[0m Data_ZSD10_Exito_Cencosub_ZVMI\u001b[39m=\u001b[39mpd\u001b[39m.\u001b[39;49mread_csv(url_ZSD10_Exito_Cencosub_ZVMI,skiprows\u001b[39m=\u001b[39;49m\u001b[39m5\u001b[39;49m,delimiter\u001b[39m=\u001b[39;49m\u001b[39m\"\u001b[39;49m\u001b[39m\\t\u001b[39;49;00m\u001b[39m\"\u001b[39;49m)\n\u001b[0;32m      5\u001b[0m Data_ZSD10_Exito_Cencosub_ZVMI\u001b[39m=\u001b[39mFuntions\u001b[39m.\u001b[39mClean_Columns(Data_ZSD10_Exito_Cencosub_ZVMI)\n\u001b[0;32m      6\u001b[0m Data_ZSD10_Exito_Cencosub_ZVMI\u001b[39m=\u001b[39mFuntions\u001b[39m.\u001b[39mdefault_column(Columns_Data_ZSD10_Exito_Cencosub_ZVMI,Data_ZSD10_Exito_Cencosub_ZVMI)\n",
      "File \u001b[1;32mc:\\Users\\practicante.picking\\AppData\\Local\\Programs\\Python\\Python311\\Lib\\site-packages\\pandas\\io\\parsers\\readers.py:912\u001b[0m, in \u001b[0;36mread_csv\u001b[1;34m(filepath_or_buffer, sep, delimiter, header, names, index_col, usecols, dtype, engine, converters, true_values, false_values, skipinitialspace, skiprows, skipfooter, nrows, na_values, keep_default_na, na_filter, verbose, skip_blank_lines, parse_dates, infer_datetime_format, keep_date_col, date_parser, date_format, dayfirst, cache_dates, iterator, chunksize, compression, thousands, decimal, lineterminator, quotechar, quoting, doublequote, escapechar, comment, encoding, encoding_errors, dialect, on_bad_lines, delim_whitespace, low_memory, memory_map, float_precision, storage_options, dtype_backend)\u001b[0m\n\u001b[0;32m    899\u001b[0m kwds_defaults \u001b[39m=\u001b[39m _refine_defaults_read(\n\u001b[0;32m    900\u001b[0m     dialect,\n\u001b[0;32m    901\u001b[0m     delimiter,\n\u001b[1;32m   (...)\u001b[0m\n\u001b[0;32m    908\u001b[0m     dtype_backend\u001b[39m=\u001b[39mdtype_backend,\n\u001b[0;32m    909\u001b[0m )\n\u001b[0;32m    910\u001b[0m kwds\u001b[39m.\u001b[39mupdate(kwds_defaults)\n\u001b[1;32m--> 912\u001b[0m \u001b[39mreturn\u001b[39;00m _read(filepath_or_buffer, kwds)\n",
      "File \u001b[1;32mc:\\Users\\practicante.picking\\AppData\\Local\\Programs\\Python\\Python311\\Lib\\site-packages\\pandas\\io\\parsers\\readers.py:577\u001b[0m, in \u001b[0;36m_read\u001b[1;34m(filepath_or_buffer, kwds)\u001b[0m\n\u001b[0;32m    574\u001b[0m _validate_names(kwds\u001b[39m.\u001b[39mget(\u001b[39m\"\u001b[39m\u001b[39mnames\u001b[39m\u001b[39m\"\u001b[39m, \u001b[39mNone\u001b[39;00m))\n\u001b[0;32m    576\u001b[0m \u001b[39m# Create the parser.\u001b[39;00m\n\u001b[1;32m--> 577\u001b[0m parser \u001b[39m=\u001b[39m TextFileReader(filepath_or_buffer, \u001b[39m*\u001b[39;49m\u001b[39m*\u001b[39;49mkwds)\n\u001b[0;32m    579\u001b[0m \u001b[39mif\u001b[39;00m chunksize \u001b[39mor\u001b[39;00m iterator:\n\u001b[0;32m    580\u001b[0m     \u001b[39mreturn\u001b[39;00m parser\n",
      "File \u001b[1;32mc:\\Users\\practicante.picking\\AppData\\Local\\Programs\\Python\\Python311\\Lib\\site-packages\\pandas\\io\\parsers\\readers.py:1407\u001b[0m, in \u001b[0;36mTextFileReader.__init__\u001b[1;34m(self, f, engine, **kwds)\u001b[0m\n\u001b[0;32m   1404\u001b[0m     \u001b[39mself\u001b[39m\u001b[39m.\u001b[39moptions[\u001b[39m\"\u001b[39m\u001b[39mhas_index_names\u001b[39m\u001b[39m\"\u001b[39m] \u001b[39m=\u001b[39m kwds[\u001b[39m\"\u001b[39m\u001b[39mhas_index_names\u001b[39m\u001b[39m\"\u001b[39m]\n\u001b[0;32m   1406\u001b[0m \u001b[39mself\u001b[39m\u001b[39m.\u001b[39mhandles: IOHandles \u001b[39m|\u001b[39m \u001b[39mNone\u001b[39;00m \u001b[39m=\u001b[39m \u001b[39mNone\u001b[39;00m\n\u001b[1;32m-> 1407\u001b[0m \u001b[39mself\u001b[39m\u001b[39m.\u001b[39m_engine \u001b[39m=\u001b[39m \u001b[39mself\u001b[39;49m\u001b[39m.\u001b[39;49m_make_engine(f, \u001b[39mself\u001b[39;49m\u001b[39m.\u001b[39;49mengine)\n",
      "File \u001b[1;32mc:\\Users\\practicante.picking\\AppData\\Local\\Programs\\Python\\Python311\\Lib\\site-packages\\pandas\\io\\parsers\\readers.py:1661\u001b[0m, in \u001b[0;36mTextFileReader._make_engine\u001b[1;34m(self, f, engine)\u001b[0m\n\u001b[0;32m   1659\u001b[0m     \u001b[39mif\u001b[39;00m \u001b[39m\"\u001b[39m\u001b[39mb\u001b[39m\u001b[39m\"\u001b[39m \u001b[39mnot\u001b[39;00m \u001b[39min\u001b[39;00m mode:\n\u001b[0;32m   1660\u001b[0m         mode \u001b[39m+\u001b[39m\u001b[39m=\u001b[39m \u001b[39m\"\u001b[39m\u001b[39mb\u001b[39m\u001b[39m\"\u001b[39m\n\u001b[1;32m-> 1661\u001b[0m \u001b[39mself\u001b[39m\u001b[39m.\u001b[39mhandles \u001b[39m=\u001b[39m get_handle(\n\u001b[0;32m   1662\u001b[0m     f,\n\u001b[0;32m   1663\u001b[0m     mode,\n\u001b[0;32m   1664\u001b[0m     encoding\u001b[39m=\u001b[39;49m\u001b[39mself\u001b[39;49m\u001b[39m.\u001b[39;49moptions\u001b[39m.\u001b[39;49mget(\u001b[39m\"\u001b[39;49m\u001b[39mencoding\u001b[39;49m\u001b[39m\"\u001b[39;49m, \u001b[39mNone\u001b[39;49;00m),\n\u001b[0;32m   1665\u001b[0m     compression\u001b[39m=\u001b[39;49m\u001b[39mself\u001b[39;49m\u001b[39m.\u001b[39;49moptions\u001b[39m.\u001b[39;49mget(\u001b[39m\"\u001b[39;49m\u001b[39mcompression\u001b[39;49m\u001b[39m\"\u001b[39;49m, \u001b[39mNone\u001b[39;49;00m),\n\u001b[0;32m   1666\u001b[0m     memory_map\u001b[39m=\u001b[39;49m\u001b[39mself\u001b[39;49m\u001b[39m.\u001b[39;49moptions\u001b[39m.\u001b[39;49mget(\u001b[39m\"\u001b[39;49m\u001b[39mmemory_map\u001b[39;49m\u001b[39m\"\u001b[39;49m, \u001b[39mFalse\u001b[39;49;00m),\n\u001b[0;32m   1667\u001b[0m     is_text\u001b[39m=\u001b[39;49mis_text,\n\u001b[0;32m   1668\u001b[0m     errors\u001b[39m=\u001b[39;49m\u001b[39mself\u001b[39;49m\u001b[39m.\u001b[39;49moptions\u001b[39m.\u001b[39;49mget(\u001b[39m\"\u001b[39;49m\u001b[39mencoding_errors\u001b[39;49m\u001b[39m\"\u001b[39;49m, \u001b[39m\"\u001b[39;49m\u001b[39mstrict\u001b[39;49m\u001b[39m\"\u001b[39;49m),\n\u001b[0;32m   1669\u001b[0m     storage_options\u001b[39m=\u001b[39;49m\u001b[39mself\u001b[39;49m\u001b[39m.\u001b[39;49moptions\u001b[39m.\u001b[39;49mget(\u001b[39m\"\u001b[39;49m\u001b[39mstorage_options\u001b[39;49m\u001b[39m\"\u001b[39;49m, \u001b[39mNone\u001b[39;49;00m),\n\u001b[0;32m   1670\u001b[0m )\n\u001b[0;32m   1671\u001b[0m \u001b[39massert\u001b[39;00m \u001b[39mself\u001b[39m\u001b[39m.\u001b[39mhandles \u001b[39mis\u001b[39;00m \u001b[39mnot\u001b[39;00m \u001b[39mNone\u001b[39;00m\n\u001b[0;32m   1672\u001b[0m f \u001b[39m=\u001b[39m \u001b[39mself\u001b[39m\u001b[39m.\u001b[39mhandles\u001b[39m.\u001b[39mhandle\n",
      "File \u001b[1;32mc:\\Users\\practicante.picking\\AppData\\Local\\Programs\\Python\\Python311\\Lib\\site-packages\\pandas\\io\\common.py:859\u001b[0m, in \u001b[0;36mget_handle\u001b[1;34m(path_or_buf, mode, encoding, compression, memory_map, is_text, errors, storage_options)\u001b[0m\n\u001b[0;32m    854\u001b[0m \u001b[39melif\u001b[39;00m \u001b[39misinstance\u001b[39m(handle, \u001b[39mstr\u001b[39m):\n\u001b[0;32m    855\u001b[0m     \u001b[39m# Check whether the filename is to be opened in binary mode.\u001b[39;00m\n\u001b[0;32m    856\u001b[0m     \u001b[39m# Binary mode does not support 'encoding' and 'newline'.\u001b[39;00m\n\u001b[0;32m    857\u001b[0m     \u001b[39mif\u001b[39;00m ioargs\u001b[39m.\u001b[39mencoding \u001b[39mand\u001b[39;00m \u001b[39m\"\u001b[39m\u001b[39mb\u001b[39m\u001b[39m\"\u001b[39m \u001b[39mnot\u001b[39;00m \u001b[39min\u001b[39;00m ioargs\u001b[39m.\u001b[39mmode:\n\u001b[0;32m    858\u001b[0m         \u001b[39m# Encoding\u001b[39;00m\n\u001b[1;32m--> 859\u001b[0m         handle \u001b[39m=\u001b[39m \u001b[39mopen\u001b[39m(\n\u001b[0;32m    860\u001b[0m             handle,\n\u001b[0;32m    861\u001b[0m             ioargs\u001b[39m.\u001b[39mmode,\n\u001b[0;32m    862\u001b[0m             encoding\u001b[39m=\u001b[39mioargs\u001b[39m.\u001b[39mencoding,\n\u001b[0;32m    863\u001b[0m             errors\u001b[39m=\u001b[39merrors,\n\u001b[0;32m    864\u001b[0m             newline\u001b[39m=\u001b[39m\u001b[39m\"\u001b[39m\u001b[39m\"\u001b[39m,\n\u001b[0;32m    865\u001b[0m         )\n\u001b[0;32m    866\u001b[0m     \u001b[39melse\u001b[39;00m:\n\u001b[0;32m    867\u001b[0m         \u001b[39m# Binary mode\u001b[39;00m\n\u001b[0;32m    868\u001b[0m         handle \u001b[39m=\u001b[39m \u001b[39mopen\u001b[39m(handle, ioargs\u001b[39m.\u001b[39mmode)\n",
      "\u001b[1;31mFileNotFoundError\u001b[0m: [Errno 2] No such file or directory: 'C:\\\\Users\\\\practicante.picking\\\\OneDrive - Prebel S.A\\\\Escritorio\\\\bot_picking\\\\Archivos_CSV\\\\Archivos_CSV\\\\Exito_Cencosub_ZVMI.txt'"
     ]
    }
   ],
   "source": [
    "# Exportar de la transsaccion ZSD10 exporta los archivos\n",
    "\n",
    "url_ZSD10_Exito_Cencosub_ZVMI=Ruta_Exito_ZSD010_ZVMI+Name_ZSD010_Exito_Cencosub_ZVMI+\".txt\"\n",
    "Data_ZSD10_Exito_Cencosub_ZVMI=pd.read_csv(url_ZSD10_Exito_Cencosub_ZVMI,skiprows=5,delimiter=\"\\t\")\n",
    "Data_ZSD10_Exito_Cencosub_ZVMI=Funtions.Clean_Columns(Data_ZSD10_Exito_Cencosub_ZVMI)\n",
    "Data_ZSD10_Exito_Cencosub_ZVMI=Funtions.default_column(Columns_Data_ZSD10_Exito_Cencosub_ZVMI,Data_ZSD10_Exito_Cencosub_ZVMI)\n",
    "Data_ZSD10_Exito_Cencosub_ZVMI=Data_ZSD10_Exito_Cencosub_ZVMI[Data_ZSD10_Exito_Cencosub_ZVMI[\"Cliente\"].notnull()]\n",
    "\n",
    "# Transformo datos \n",
    "Data_ZSD10_Exito_Cencosub_ZVMI[\"Unidades\"],Data_ZSD10_Exito_Cencosub_ZVMI[\"ValorNeto\"],Data_ZSD10_Exito_Cencosub_ZVMI[\"Total Pedidos\"]=Funtions.Clean_Num_List(Data_ZSD10_Exito_Cencosub_ZVMI[\"Unidades\"],Data_ZSD10_Exito_Cencosub_ZVMI[\"ValorNeto\"],Data_ZSD10_Exito_Cencosub_ZVMI[\"Total Pedidos\"])\n",
    "# Tranformo la columna que tiene .0 por si es necesario\n",
    "try:\n",
    "    Data_ZSD10_Exito_Cencosub_ZVMI['Doc.venta']=Funtions.Clean_int_to_str(Data_ZSD10_Exito_Cencosub_ZVMI['Doc.venta'])\n",
    "except:\n",
    "    None"
   ]
  },
  {
   "cell_type": "code",
   "execution_count": null,
   "metadata": {},
   "outputs": [
    {
     "ename": "NameError",
     "evalue": "name 'Data_ZSD10_Exito_Cencosub_ZVMI' is not defined",
     "output_type": "error",
     "traceback": [
      "\u001b[1;31m---------------------------------------------------------------------------\u001b[0m",
      "\u001b[1;31mNameError\u001b[0m                                 Traceback (most recent call last)",
      "Cell \u001b[1;32mIn[148], line 1\u001b[0m\n\u001b[1;32m----> 1\u001b[0m Data_ZSD10_Exito_Cencosub_ZVMI\n",
      "\u001b[1;31mNameError\u001b[0m: name 'Data_ZSD10_Exito_Cencosub_ZVMI' is not defined"
     ]
    }
   ],
   "source": [
    "Data_ZSD10_Exito_Cencosub_ZVMI"
   ]
  },
  {
   "cell_type": "code",
   "execution_count": null,
   "metadata": {},
   "outputs": [],
   "source": [
    "Datos_Agenda_Exito_ZVMI=list(Tabla_Agenda_Exito_ZVMI[\"Nº pedido cliente\"].unique())    #Utilizo los valores de la tabla ya que con estos pedidos del Exito busco en la ZSD10\n",
    "Datos_Agenda_Cencosub_ZVMI=list(Tabla_Agenda_Cencosub_ZVMI[\"Nº pedido cliente\"].unique()) #Utilizo los valores de la tabla ya que con estos pedidos de Cencosub busco en la ZSD10"
   ]
  },
  {
   "cell_type": "code",
   "execution_count": null,
   "metadata": {},
   "outputs": [],
   "source": [
    "Data_ZSD10_Exito_ZVMI=Data_ZSD10_Exito_Cencosub_ZVMI.loc[Data_ZSD10_Exito_Cencosub_ZVMI[\"Nº pedido cliente\"].isin(Datos_Agenda_Exito_ZVMI)]    \n",
    "Data_ZSD10_Cencosub_ZVMI=Data_ZSD10_Exito_Cencosub_ZVMI.loc[Data_ZSD10_Exito_Cencosub_ZVMI[\"Nº pedido cliente\"].isin(Datos_Agenda_Cencosub_ZVMI)]         #in list(Datos_Agenda_Exito_ZVMI)"
   ]
  },
  {
   "cell_type": "code",
   "execution_count": null,
   "metadata": {},
   "outputs": [],
   "source": [
    "#Resumenes numericos de tablas Cencosub\n",
    "\n",
    "Resumen_Exito_ZVMI=Data_ZSD10_Exito_ZVMI.pivot_table(index=['Material'],aggfunc={'Nº pedido cliente':'count','ValorNeto':sum,'Unidades':sum,'Total Pedidos':sum}).reset_index()\n",
    "Resumen_Cencosub_ZVMI=Data_ZSD10_Cencosub_ZVMI.pivot_table(index=['Material'],aggfunc={'Nº pedido cliente':'count','ValorNeto':sum,'Unidades':sum,'Total Pedidos':sum}).reset_index()"
   ]
  },
  {
   "cell_type": "code",
   "execution_count": null,
   "metadata": {},
   "outputs": [
    {
     "data": {
      "text/plain": [
       "['0085780914',\n",
       " '0085780916',\n",
       " '0085780917',\n",
       " '0085780918',\n",
       " '0085780947',\n",
       " '0085780948',\n",
       " '0085780949',\n",
       " '0085780950',\n",
       " '0085780970']"
      ]
     },
     "execution_count": 68,
     "metadata": {},
     "output_type": "execute_result"
    }
   ],
   "source": [
    "Datos_Agenda_Exito_ZVMI"
   ]
  },
  {
   "cell_type": "markdown",
   "metadata": {},
   "source": [
    "# Modifico información de las tablas de cencosub"
   ]
  },
  {
   "cell_type": "code",
   "execution_count": null,
   "metadata": {},
   "outputs": [
    {
     "ename": "KeyError",
     "evalue": "'Nº pedido cliente'",
     "output_type": "error",
     "traceback": [
      "\u001b[1;31m---------------------------------------------------------------------------\u001b[0m",
      "\u001b[1;31mKeyError\u001b[0m                                  Traceback (most recent call last)",
      "\u001b[1;32mc:\\Users\\Steven\\anaconda3\\lib\\site-packages\\pandas\\core\\indexes\\base.py\u001b[0m in \u001b[0;36mget_loc\u001b[1;34m(self, key, method, tolerance)\u001b[0m\n\u001b[0;32m   3628\u001b[0m             \u001b[1;32mtry\u001b[0m\u001b[1;33m:\u001b[0m\u001b[1;33m\u001b[0m\u001b[1;33m\u001b[0m\u001b[0m\n\u001b[1;32m-> 3629\u001b[1;33m                 \u001b[1;32mreturn\u001b[0m \u001b[0mself\u001b[0m\u001b[1;33m.\u001b[0m\u001b[0m_engine\u001b[0m\u001b[1;33m.\u001b[0m\u001b[0mget_loc\u001b[0m\u001b[1;33m(\u001b[0m\u001b[0mcasted_key\u001b[0m\u001b[1;33m)\u001b[0m\u001b[1;33m\u001b[0m\u001b[1;33m\u001b[0m\u001b[0m\n\u001b[0m\u001b[0;32m   3630\u001b[0m             \u001b[1;32mexcept\u001b[0m \u001b[0mKeyError\u001b[0m \u001b[1;32mas\u001b[0m \u001b[0merr\u001b[0m\u001b[1;33m:\u001b[0m\u001b[1;33m\u001b[0m\u001b[1;33m\u001b[0m\u001b[0m\n",
      "\u001b[1;32mc:\\Users\\Steven\\anaconda3\\lib\\site-packages\\pandas\\_libs\\index.pyx\u001b[0m in \u001b[0;36mpandas._libs.index.IndexEngine.get_loc\u001b[1;34m()\u001b[0m\n",
      "\u001b[1;32mc:\\Users\\Steven\\anaconda3\\lib\\site-packages\\pandas\\_libs\\index.pyx\u001b[0m in \u001b[0;36mpandas._libs.index.IndexEngine.get_loc\u001b[1;34m()\u001b[0m\n",
      "\u001b[1;32mpandas\\_libs\\hashtable_class_helper.pxi\u001b[0m in \u001b[0;36mpandas._libs.hashtable.PyObjectHashTable.get_item\u001b[1;34m()\u001b[0m\n",
      "\u001b[1;32mpandas\\_libs\\hashtable_class_helper.pxi\u001b[0m in \u001b[0;36mpandas._libs.hashtable.PyObjectHashTable.get_item\u001b[1;34m()\u001b[0m\n",
      "\u001b[1;31mKeyError\u001b[0m: 'Nº pedido cliente'",
      "\nThe above exception was the direct cause of the following exception:\n",
      "\u001b[1;31mKeyError\u001b[0m                                  Traceback (most recent call last)",
      "\u001b[1;32m~\\AppData\\Local\\Temp\\ipykernel_7436\\493260347.py\u001b[0m in \u001b[0;36m<module>\u001b[1;34m\u001b[0m\n\u001b[1;32m----> 1\u001b[1;33m \u001b[0mLineas_Tabla_Agenda_Exito_ZVMI\u001b[0m\u001b[1;33m=\u001b[0m\u001b[0mResumen_Exito_ZVMI\u001b[0m\u001b[1;33m[\u001b[0m\u001b[1;34m'Nº pedido cliente'\u001b[0m\u001b[1;33m]\u001b[0m\u001b[1;33m.\u001b[0m\u001b[0msum\u001b[0m\u001b[1;33m(\u001b[0m\u001b[1;33m)\u001b[0m\u001b[1;33m\u001b[0m\u001b[1;33m\u001b[0m\u001b[0m\n\u001b[0m\u001b[0;32m      2\u001b[0m \u001b[0mLineas_Tabla_Agenda_Cencosub_ZVMI\u001b[0m\u001b[1;33m=\u001b[0m\u001b[0mResumen_Cencosub_ZVMI\u001b[0m\u001b[1;33m[\u001b[0m\u001b[1;34m'Nº pedido cliente'\u001b[0m\u001b[1;33m]\u001b[0m\u001b[1;33m.\u001b[0m\u001b[0msum\u001b[0m\u001b[1;33m(\u001b[0m\u001b[1;33m)\u001b[0m\u001b[1;33m\u001b[0m\u001b[1;33m\u001b[0m\u001b[0m\n\u001b[0;32m      3\u001b[0m \u001b[0mUnidades_Tabla_Agenda_Exito_ZVMI\u001b[0m\u001b[1;33m=\u001b[0m\u001b[0mResumen_Exito_ZVMI\u001b[0m\u001b[1;33m.\u001b[0m\u001b[0mUnidades\u001b[0m\u001b[1;33m.\u001b[0m\u001b[0msum\u001b[0m\u001b[1;33m(\u001b[0m\u001b[1;33m)\u001b[0m\u001b[1;33m\u001b[0m\u001b[1;33m\u001b[0m\u001b[0m\n\u001b[0;32m      4\u001b[0m \u001b[0mUnidades_Tabla_Agenda_Cencosub_ZVMI\u001b[0m\u001b[1;33m=\u001b[0m\u001b[0mResumen_Cencosub_ZVMI\u001b[0m\u001b[1;33m.\u001b[0m\u001b[0mUnidades\u001b[0m\u001b[1;33m.\u001b[0m\u001b[0msum\u001b[0m\u001b[1;33m(\u001b[0m\u001b[1;33m)\u001b[0m\u001b[1;33m\u001b[0m\u001b[1;33m\u001b[0m\u001b[0m\n\u001b[0;32m      5\u001b[0m \u001b[0mValor_neto_Tabla_Agenda_Exito_ZVMI\u001b[0m\u001b[1;33m=\u001b[0m\u001b[0mResumen_Exito_ZVMI\u001b[0m\u001b[1;33m[\u001b[0m\u001b[1;34m'ValorNeto'\u001b[0m\u001b[1;33m]\u001b[0m\u001b[1;33m.\u001b[0m\u001b[0msum\u001b[0m\u001b[1;33m(\u001b[0m\u001b[1;33m)\u001b[0m\u001b[1;33m\u001b[0m\u001b[1;33m\u001b[0m\u001b[0m\n",
      "\u001b[1;32mc:\\Users\\Steven\\anaconda3\\lib\\site-packages\\pandas\\core\\frame.py\u001b[0m in \u001b[0;36m__getitem__\u001b[1;34m(self, key)\u001b[0m\n\u001b[0;32m   3503\u001b[0m             \u001b[1;32mif\u001b[0m \u001b[0mself\u001b[0m\u001b[1;33m.\u001b[0m\u001b[0mcolumns\u001b[0m\u001b[1;33m.\u001b[0m\u001b[0mnlevels\u001b[0m \u001b[1;33m>\u001b[0m \u001b[1;36m1\u001b[0m\u001b[1;33m:\u001b[0m\u001b[1;33m\u001b[0m\u001b[1;33m\u001b[0m\u001b[0m\n\u001b[0;32m   3504\u001b[0m                 \u001b[1;32mreturn\u001b[0m \u001b[0mself\u001b[0m\u001b[1;33m.\u001b[0m\u001b[0m_getitem_multilevel\u001b[0m\u001b[1;33m(\u001b[0m\u001b[0mkey\u001b[0m\u001b[1;33m)\u001b[0m\u001b[1;33m\u001b[0m\u001b[1;33m\u001b[0m\u001b[0m\n\u001b[1;32m-> 3505\u001b[1;33m             \u001b[0mindexer\u001b[0m \u001b[1;33m=\u001b[0m \u001b[0mself\u001b[0m\u001b[1;33m.\u001b[0m\u001b[0mcolumns\u001b[0m\u001b[1;33m.\u001b[0m\u001b[0mget_loc\u001b[0m\u001b[1;33m(\u001b[0m\u001b[0mkey\u001b[0m\u001b[1;33m)\u001b[0m\u001b[1;33m\u001b[0m\u001b[1;33m\u001b[0m\u001b[0m\n\u001b[0m\u001b[0;32m   3506\u001b[0m             \u001b[1;32mif\u001b[0m \u001b[0mis_integer\u001b[0m\u001b[1;33m(\u001b[0m\u001b[0mindexer\u001b[0m\u001b[1;33m)\u001b[0m\u001b[1;33m:\u001b[0m\u001b[1;33m\u001b[0m\u001b[1;33m\u001b[0m\u001b[0m\n\u001b[0;32m   3507\u001b[0m                 \u001b[0mindexer\u001b[0m \u001b[1;33m=\u001b[0m \u001b[1;33m[\u001b[0m\u001b[0mindexer\u001b[0m\u001b[1;33m]\u001b[0m\u001b[1;33m\u001b[0m\u001b[1;33m\u001b[0m\u001b[0m\n",
      "\u001b[1;32mc:\\Users\\Steven\\anaconda3\\lib\\site-packages\\pandas\\core\\indexes\\base.py\u001b[0m in \u001b[0;36mget_loc\u001b[1;34m(self, key, method, tolerance)\u001b[0m\n\u001b[0;32m   3629\u001b[0m                 \u001b[1;32mreturn\u001b[0m \u001b[0mself\u001b[0m\u001b[1;33m.\u001b[0m\u001b[0m_engine\u001b[0m\u001b[1;33m.\u001b[0m\u001b[0mget_loc\u001b[0m\u001b[1;33m(\u001b[0m\u001b[0mcasted_key\u001b[0m\u001b[1;33m)\u001b[0m\u001b[1;33m\u001b[0m\u001b[1;33m\u001b[0m\u001b[0m\n\u001b[0;32m   3630\u001b[0m             \u001b[1;32mexcept\u001b[0m \u001b[0mKeyError\u001b[0m \u001b[1;32mas\u001b[0m \u001b[0merr\u001b[0m\u001b[1;33m:\u001b[0m\u001b[1;33m\u001b[0m\u001b[1;33m\u001b[0m\u001b[0m\n\u001b[1;32m-> 3631\u001b[1;33m                 \u001b[1;32mraise\u001b[0m \u001b[0mKeyError\u001b[0m\u001b[1;33m(\u001b[0m\u001b[0mkey\u001b[0m\u001b[1;33m)\u001b[0m \u001b[1;32mfrom\u001b[0m \u001b[0merr\u001b[0m\u001b[1;33m\u001b[0m\u001b[1;33m\u001b[0m\u001b[0m\n\u001b[0m\u001b[0;32m   3632\u001b[0m             \u001b[1;32mexcept\u001b[0m \u001b[0mTypeError\u001b[0m\u001b[1;33m:\u001b[0m\u001b[1;33m\u001b[0m\u001b[1;33m\u001b[0m\u001b[0m\n\u001b[0;32m   3633\u001b[0m                 \u001b[1;31m# If we have a listlike key, _check_indexing_error will raise\u001b[0m\u001b[1;33m\u001b[0m\u001b[1;33m\u001b[0m\u001b[0m\n",
      "\u001b[1;31mKeyError\u001b[0m: 'Nº pedido cliente'"
     ]
    }
   ],
   "source": [
    "Lineas_Tabla_Agenda_Exito_ZVMI=Resumen_Exito_ZVMI['Nº pedido cliente'].sum()\n",
    "Lineas_Tabla_Agenda_Cencosub_ZVMI=Resumen_Cencosub_ZVMI['Nº pedido cliente'].sum()\n",
    "Unidades_Tabla_Agenda_Exito_ZVMI=Resumen_Exito_ZVMI.Unidades.sum()\n",
    "Unidades_Tabla_Agenda_Cencosub_ZVMI=Resumen_Cencosub_ZVMI.Unidades.sum()\n",
    "Valor_neto_Tabla_Agenda_Exito_ZVMI=Resumen_Exito_ZVMI['ValorNeto'].sum()\n",
    "Valor_neto_Tabla_Agenda_Cencosub_ZVMI=Resumen_Cencosub_ZVMI['ValorNeto'].sum()\n",
    "Total_Pedidos_Agenda_Exito_ZVMI=Resumen_Exito_ZVMI['Total Pedidos'].sum()\n",
    "Total_Pedidos_Agenda_Cencosub_ZVMI=Resumen_Cencosub_ZVMI['Total Pedidos'].sum()"
   ]
  },
  {
   "cell_type": "code",
   "execution_count": null,
   "metadata": {},
   "outputs": [],
   "source": [
    "#Modifioc los datos de los nombre\n",
    "Table_Data_ZSD035D[\"CDis\"]=Table_Data_ZSD035D[\"CDis\"].replace(Channels_Name)"
   ]
  },
  {
   "cell_type": "code",
   "execution_count": null,
   "metadata": {},
   "outputs": [],
   "source": [
    "Tabla_Consolidado_Diaria=pd.read_csv(\"C:\\\\Users\\\\practicante.picking\\\\OneDrive - Prebel S.A\\\\Escritorio\\\\bot_picking\\\\Archivos_CSV\\\\Tabla_Consolidado_Diaria.txt\",delimiter=\"\\t\")\n",
    "LISTA_PEDIDOS=pd.read_csv(\"C:\\\\Users\\\\practicante.picking\\\\OneDrive - Prebel S.A\\\\Escritorio\\\\bot_picking\\\\Archivos_CSV\\\\LISTA_PEDIDOS.txt\",delimiter=\"\\t\")\n",
    "pedidosrechazados=pd.read_csv(\"C:\\\\Users\\\\practicante.picking\\\\OneDrive - Prebel S.A\\\\Escritorio\\\\bot_picking\\\\Archivos_CSV\\\\Archivos_CSV\\\\pedidosrechazados.txt\",delimiter=\"\\t\")\n"
   ]
  },
  {
   "cell_type": "code",
   "execution_count": null,
   "metadata": {},
   "outputs": [
    {
     "name": "stdout",
     "output_type": "stream",
     "text": [
      "Dash is running on http://0.0.0.0:8000/\n",
      "\n",
      "Dash is running on http://0.0.0.0:8000/\n",
      "\n",
      "Dash is running on http://0.0.0.0:8000/\n",
      "\n",
      "Dash is running on http://0.0.0.0:8000/\n",
      "\n",
      "Dash is running on http://0.0.0.0:8000/\n",
      "\n",
      "Dash is running on http://0.0.0.0:8000/\n",
      "\n",
      "Dash is running on http://0.0.0.0:8000/\n",
      "\n",
      "Dash is running on http://0.0.0.0:8000/\n",
      "\n",
      " * Serving Flask app \"__main__\" (lazy loading)\n",
      " * Environment: production\n",
      "\u001b[31m   WARNING: This is a development server. Do not use it in a production deployment.\u001b[0m\n",
      "\u001b[2m   Use a production WSGI server instead.\u001b[0m\n",
      " * Debug mode: off\n"
     ]
    },
    {
     "name": "stderr",
     "output_type": "stream",
     "text": [
      " * Running on all addresses.\n",
      "   WARNING: This is a development server. Do not use it in a production deployment.\n",
      " * Running on http://192.168.2.104:8000/ (Press CTRL+C to quit)\n",
      "192.168.2.104 - - [18/Jul/2023 12:37:20] \"GET / HTTP/1.1\" 200 -\n",
      "192.168.2.104 - - [18/Jul/2023 12:37:22] \"GET /_dash-layout HTTP/1.1\" 200 -\n",
      "192.168.2.104 - - [18/Jul/2023 12:37:22] \"GET /_dash-dependencies HTTP/1.1\" 200 -\n",
      "192.168.2.104 - - [18/Jul/2023 12:37:22] \"GET /_favicon.ico?v=2.7.0 HTTP/1.1\" 200 -\n",
      "C:\\Users\\Steven\\AppData\\Local\\Temp\\ipykernel_7436\\2927640440.py:142: SettingWithCopyWarning:\n",
      "\n",
      "\n",
      "A value is trying to be set on a copy of a slice from a DataFrame\n",
      "\n",
      "See the caveats in the documentation: https://pandas.pydata.org/pandas-docs/stable/user_guide/indexing.html#returning-a-view-versus-a-copy\n",
      "\n",
      "C:\\Users\\Steven\\AppData\\Local\\Temp\\ipykernel_7436\\2927640440.py:143: SettingWithCopyWarning:\n",
      "\n",
      "\n",
      "A value is trying to be set on a copy of a slice from a DataFrame\n",
      "\n",
      "See the caveats in the documentation: https://pandas.pydata.org/pandas-docs/stable/user_guide/indexing.html#returning-a-view-versus-a-copy\n",
      "\n",
      "C:\\Users\\Steven\\AppData\\Local\\Temp\\ipykernel_7436\\2927640440.py:144: SettingWithCopyWarning:\n",
      "\n",
      "\n",
      "A value is trying to be set on a copy of a slice from a DataFrame\n",
      "\n",
      "See the caveats in the documentation: https://pandas.pydata.org/pandas-docs/stable/user_guide/indexing.html#returning-a-view-versus-a-copy\n",
      "\n",
      "C:\\Users\\Steven\\AppData\\Local\\Temp\\ipykernel_7436\\2927640440.py:145: SettingWithCopyWarning:\n",
      "\n",
      "\n",
      "A value is trying to be set on a copy of a slice from a DataFrame\n",
      "\n",
      "See the caveats in the documentation: https://pandas.pydata.org/pandas-docs/stable/user_guide/indexing.html#returning-a-view-versus-a-copy\n",
      "\n",
      "192.168.2.104 - - [18/Jul/2023 12:37:22] \"POST /_dash-update-component HTTP/1.1\" 200 -\n",
      "192.168.2.104 - - [18/Jul/2023 12:37:22] \"GET /_dash-component-suites/dash/dcc/async-dropdown.js HTTP/1.1\" 200 -\n",
      "192.168.2.104 - - [18/Jul/2023 12:37:23] \"GET /_dash-component-suites/dash/dash_table/async-table.js HTTP/1.1\" 200 -\n",
      "192.168.2.104 - - [18/Jul/2023 12:37:23] \"GET /_dash-component-suites/dash/dash_table/async-highlight.js HTTP/1.1\" 200 -\n"
     ]
    }
   ],
   "source": [
    "Lineas_table_dinamica_Exito_entrega=sum(Tabla_Agenda_Exito['Material'])+sum(Tabla_Agenda_Cencusub['Material'])\n",
    "\n",
    "Lineas_table_dinamica_Cencosub_entrega=sum(Tabla_Agenda_Exito['Material'])+sum(Tabla_Agenda_Cencusub['Material'])\n",
    "\n",
    "data=np.array([[\"Exito\",2,3,Lineas_table_dinamica_Exito_entrega],[\"Cencosub\",4,5,Lineas_table_dinamica_Cencosub_entrega]])\n",
    "\n",
    "df3=pd.DataFrame(data,index=[\"Exito\",\"Cencosub\"],columns=[\"Cliente\",\"ZVMI\",\"FIRME\",\"Total\"])\n",
    "df3[\"Total\"]=df3[\"Total\"].astype(float)\n",
    "        \n",
    "\n",
    "app = Dash(__name__,external_stylesheets=[dbc.themes.BOOTSTRAP],suppress_callback_exceptions=True)\n",
    "states_clase_pedido_Exito = Tabla_Agenda_Exito['Clase Pedido'].unique().tolist()\n",
    "states_clase_pedido_Cencosub  =Tabla_Agenda_Cencusub['Clase Pedido'].unique().tolist()\n",
    "states_clase_plataforma_Exito = Tabla_Agenda_Exito['Plataforma'].unique().tolist()\n",
    "states_clase_plataforma_Cencosub=Tabla_Agenda_Cencusub['Plataforma'].unique().tolist()\n",
    "states_Candistr=Consolidado_Clientes['Can.distr.'].unique().tolist()\n",
    "\n",
    "\n",
    "Pague_1 = html.Div(children=[\n",
    "    html.Div(className=\"row justify-content mb-3\", children=[\n",
    "        html.Div(className=\"col-md-3 \"),\n",
    "        html.Div(className=\"col-md-6 w-50\", children=[\n",
    "            html.Div(className=\"blockquote text-center\", children=[\n",
    "                html.H3(\"Consolidado\"),\n",
    "            ]),\n",
    "            Create_Table_Condition(df3,\"Consolidado_Agenda_Exito_Cencosub\",'Total'),\n",
    "        ]),\n",
    "        html.Div(className=\"col-md-3 \"),\n",
    "    ]),\n",
    "    html.Div(className=\"row justify-content\", children=[\n",
    "        html.Div(className=\"col-md-6 w-30 mx-auto mb-2\", children=[\n",
    "            html.Div(className=\"container bg-primary rounded-3 border border border-success p-2 mb-2 border-opacity-50 mb-2\", children=[\n",
    "                html.Div(className=\"row justify-content\", children=[\n",
    "                    html.Div(className=\"blockquote text-center text-white mb-2 \", children=[\n",
    "                            html.H3(\"Agenda EXITO\"),\n",
    "                    ]),\n",
    "                    html.Div(className=\"col-md-6 w-50 mx-auto mb-3\", children=[\n",
    "                        html.Label(['Clase Pedido'], style={'font-weight': 'bold', \"text-align\": \"center\"}),\n",
    "                        Create_Dropdown(Tabla_Agenda_Exito['Clase Pedido'],states_clase_pedido_Exito,\"filter_dropdown_Clase_Pedido_E\"),  #Creamos Dropsown\n",
    "                    ]),\n",
    "                    html.Div(className=\"col-md-6 w-50 mx-auto mb-3\", children=[\n",
    "                        html.Label(['Plataforma'], style={'font-weight': 'bold', \"text-align\": \"center\"}),\n",
    "                        Create_Dropdown(Tabla_Agenda_Exito['Plataforma'],states_clase_plataforma_Exito,\"filter_dropdown_Plataforma_E\"),   #Creamos Dropdown\n",
    "                    ]),\n",
    "                ]),                                   \n",
    "            ]),\n",
    "            Create_Table(Tabla_Agenda_Exito,\"Tabla_Agenda_Exito\"),    #Crear Tabla_Agenda_Exito   \n",
    "        ]), \n",
    "        html.Div(className=\"col-md-6 w-50 mx-auto mb-2\", children=[\n",
    "            html.Div(className=\"container bg-primary rounded-3 border border-success p-2 mb-2 border-opacity-50 mb-2\", children=[   \n",
    "                html.Div(className=\"row justify-content\", children=[  \n",
    "                    html.Div(className=\"blockquote text-center text-white mb-2\", children=[\n",
    "                        html.H3(\"Agenda CENCOSUD\"),\n",
    "                    ]),\n",
    "                    html.Div(className=\"col-md-6 w-50 mx-auto mb-3\", children=[\n",
    "                        html.Label(['Clase Pedido'], style={'font-weight': 'bold', \"text-align\": \"start\"}),\n",
    "                        Create_Dropdown(Tabla_Agenda_Cencusub['Clase Pedido'],states_clase_pedido_Cencosub,\"filter_dropdown_Clase_Pedido_CEN\"),\n",
    "                    ]),\n",
    "                    html.Div(className=\"col-md-6 w-50 mx-auto\", children=[\n",
    "                        html.Label(['Plataforma'], style={'font-weight': 'bold', \"text-align\": \"center\"}),\n",
    "                        Create_Dropdown(Tabla_Agenda_Cencusub['Plataforma'],states_clase_plataforma_Cencosub,\"filter_dropdown_Plataforma_CEN\"),   #Creamos Dropdown\n",
    "                    ]),\n",
    "                ]),\n",
    "            ]),\n",
    "            Create_Table(Tabla_Agenda_Cencusub,\"Tabla entrega CENCOSUD\"),   \n",
    "        ]),\n",
    "    ]),\n",
    "])\n",
    "\n",
    "Pague_2 = html.Div(children=[\n",
    "    html.Div(className=\"row justify-content\", children=[\n",
    "        html.Div(className=\"col-md-8 w-30 p-2\", children=[\n",
    "                html.Div(className=\"blockquote text-center text-black mb-2 pe-5\", children=[\n",
    "                    html.H2(\"Total Pedidos\"),\n",
    "                    html.Label(['Plataforma'], style={'font-weight': 'bold', \"text-align\": \"center\"}),\n",
    "                    Create_Dropdown(Consolidado_Clientes['Can.distr.'],states_Candistr,\"filter_dropdown_Candistr\"), \n",
    "                html.Div(className=\"row justify-content\", children=[\n",
    "                    Create_Table(Consolidado_Clientes,\"Consolidado_Clientes\",\"9px\"),    #Crear Tabla_Agenda_Exito  \n",
    "                   ]),\n",
    "                html.Div(className=\"row justify-content mt-3\", children=[\n",
    "                    Create_Table(Datos_lineas_clientes,\"Datos_lineas_clientes\",\"9px\"),    #Crear Tabla_Agenda_Exito \n",
    "                ]),\n",
    "            ]),\n",
    "        ]),\n",
    "        html.Div(className=\"col-md-4 w-30 p-2\", children=[\n",
    "            html.Div(className=\"container bg-primary ms-3\", children=[\n",
    "                dcc.Graph(id='Grafico_Mercadeo',style={'width': '400px', 'height': '350px'},figure=Create_figure(Consolidado_Clientes,'Can.distr.',['Pedidos M','Lineas M','Unidades M'])),\n",
    "                dcc.Graph(id='Grafico_Firme',style={'width': '400px', 'height': '350px'},figure=Create_figure(Consolidado_Clientes,'Can.distr.',['Pedidos F','Lineas F','Unidades F'])),\n",
    "                dcc.Graph(id='Grafico_Total',style={'width': '400px', 'height': '350px'},figure=Create_figure(Consolidado_Clientes,'Can.distr.',['Pedidos T','Lineas T','Unidades T'])),\n",
    "            ]),    \n",
    "        ]),  \n",
    "    ]),\n",
    "])\n",
    "\n",
    "Pague_3= html.Div(children=[\n",
    "            html.Div(className=\"container mt-3\", children=[\n",
    "                html.Div(className=\"row justify-content mt-3\", children=[\n",
    "                    Create_Table(Table_Data_ZSD035D,\"Table_Data_ZSD035D\",\"9px\"),\n",
    "        ]),\n",
    "    ]),\n",
    "])\n",
    "app.layout = html.Div(children=[\n",
    "    html.Div(className=\"container-fluid p-3 bg-primary text-white text-center\", children=[\n",
    "         html.H1(\"Pedidos Pendientes\"),\n",
    "    ]),\n",
    "\n",
    "    dcc.Tabs(id=\"tabs-example-graph\", value='tab-1-example-graph', children=[\n",
    "        dcc.Tab(label='Tab One', value='tab-1-example-graph', children=[Pague_1]),\n",
    "        dcc.Tab(label='Tab Two', value='tab-2-example-graph', children=[Pague_2]),\n",
    "        dcc.Tab(label='Tab Tree', value='tab-3-example-graph', children=[Pague_3]),\n",
    "    ]),\n",
    "])\n",
    "\n",
    "@app.callback(\n",
    "    Output(\"Tabla_Agenda_Exito\", \"data\"),\n",
    "    Output(\"Tabla entrega CENCOSUB\", \"data\"), \n",
    "    Output(\"Consolidado_Agenda_Exito_Cencosub\", \"data\"), \n",
    "    Output(\"Consolidado_Clientes\", \"data\"),\n",
    "    Output(\"Datos_lineas_clientes\",\"data\"),\n",
    "    Output(\"Grafico_Mercadeo\", \"figure\"),\n",
    "    Output('Grafico_Firme', \"figure\"),  \n",
    "    Output('Grafico_Total', \"figure\"),\n",
    "    Input(\"filter_dropdown_Clase_Pedido_E\", \"value\"),\n",
    "    Input(\"filter_dropdown_Plataforma_E\", \"value\"),\n",
    "    Input(\"filter_dropdown_Clase_Pedido_CEN\", \"value\"),\n",
    "    Input(\"filter_dropdown_Plataforma_CEN\", \"value\"),\n",
    "    Input(\"filter_dropdown_Candistr\", \"value\"),\n",
    "    Input('tabs-example-graph', 'value'),\n",
    ")\n",
    "\n",
    "def display_table(State_Clase_Pedido_EXT,State_Plataforma_EXT,State_Clase_Pedido_CEN,State_Plataforma_CEN,State_Candistr,tab):\n",
    "    Output_Exito = Tabla_Agenda_Exito[Tabla_Agenda_Exito['Clase Pedido'].isin(State_Clase_Pedido_EXT) | Tabla_Agenda_Exito['Plataforma'].isin(State_Plataforma_EXT)]\n",
    "    Output_Cencosub = Tabla_Agenda_Cencusub[Tabla_Agenda_Cencusub['Clase Pedido'].isin(State_Clase_Pedido_CEN)| Tabla_Agenda_Cencusub['Plataforma'].isin(State_Plataforma_CEN)]\n",
    "    Output_Exito_ZVMI=Output_Exito[Output_Exito['Clase Pedido']=='ZVMI']\n",
    "    Output_Cencosub_ZVMI=Output_Cencosub[Output_Cencosub['Clase Pedido']=='ZVMI']\n",
    "    Output_Exito_Firme=Output_Exito[Output_Exito['Clase Pedido']!='ZVMI']\n",
    "    if tab == 'tab-1-example-graph':\n",
    "        Output_Exito_ZED1_ZEDI=Output_Exito[(Output_Exito['Clase Pedido']=='ZED1') | (Output_Exito['Clase Pedido']=='ZEDI')] # | Output_Exito['Clase Pedido']=='ZEDI'\n",
    "        Output_Cencosub_ZED1_ZEDI=Output_Cencosub[(Output_Cencosub['Clase Pedido']=='ZED1') | (Output_Cencosub['Clase Pedido']=='ZEDI')] # | Output_Cencosub['Clase Pedido']=='ZEDI'\n",
    "        df3[\"ZVMI\"][0]=Output_Exito_ZVMI[\"Material\"].sum()\n",
    "        df3[\"ZVMI\"][1]=Output_Cencosub_ZVMI[\"Material\"].sum()\n",
    "        df3[\"FIRME\"][0]=Output_Exito_ZED1_ZEDI[\"Material\"].sum()\n",
    "        df3[\"FIRME\"][1]=Output_Cencosub_ZED1_ZEDI[\"Material\"].sum()\n",
    "        df3[\"Total\"]=df3[\"ZVMI\"]+df3[\"FIRME\"]\n",
    "        dff3=df3\n",
    "        return Output_Exito.to_dict(\"records\"),Output_Cencosub.to_dict(\"records\"),dff3.to_dict(\"records\"),dash.no_update,dash.no_update,dash.no_update,dash.no_update,dash.no_update\n",
    "    elif tab == 'tab-2-example-graph':\n",
    "        Output_Exito_ZVMI=Tabla_Agenda_Exito[Tabla_Agenda_Exito['Clase Pedido']=='ZVMI']\n",
    "        Output_Cencosub_ZVMI=Tabla_Agenda_Cencusub[Tabla_Agenda_Cencusub['Clase Pedido']=='ZVMI']\n",
    "        Output_Exito_Firme=Tabla_Agenda_Exito[Tabla_Agenda_Exito['Clase Pedido']!='ZVMI']\n",
    "        Output_Consolidado=Consolidado_Clientes[Consolidado_Clientes['Can.distr.'].isin(State_Candistr)]\n",
    "        Output_Consolidado_figure=Consolidado_Clientes[Consolidado_Clientes['Can.distr.'].isin(State_Candistr)]\n",
    "        figure_mercadeo=Create_figure(Output_Consolidado_figure,'Can.distr.',['Pedidos M','Lineas M','Unidades M'])\n",
    "        figure_firme=Create_figure(Output_Consolidado_figure,'Can.distr.',['Pedidos F','Lineas F','Unidades F'])\n",
    "        figure_total=Create_figure(Output_Consolidado_figure,'Can.distr.',['Pedidos T','Lineas T','Unidades T'])\n",
    "        Output_Consolidado=Total_Consolidado(Output_Consolidado,Columns_Consolidado_Clientes,Total_Consolidado_Clientes)\n",
    "        Lineas_Output_Exito_ZVMI=Output_Exito_ZVMI['Material'].sum()\n",
    "        Lineas_Output_Cencosub_ZVMI=Output_Cencosub_ZVMI['Material'].sum()\n",
    "        Lineas_Output_Exito_Firme=Output_Exito_Firme['Material'].sum()\n",
    "        Output_Datos_lineas_clientes=Datos_lineas_clientes.to_dict(\"records\")\n",
    "        # Update table Datos_lineas_clientes\n",
    "        Valor_Eccomerce=Consolidado_Clientes[Consolidado_Clientes[\"Can.distr.\"]=='ECOMMERCE']['Lineas F'].values[0] if 'ECOMMERCE' in Consolidado_Clientes[\"Can.distr.\"].to_list() else 0\n",
    "        Valor_Mercadeo=Consolidado_Clientes[Consolidado_Clientes[\"Can.distr.\"]=='MODERNO']['Lineas F'].values[0] if 'MODERNO' in Consolidado_Clientes[\"Can.distr.\"].to_list() else 0\n",
    "        Output_Datos_lineas_clientes[0][\"Cantidad\"]=Valor_Eccomerce\n",
    "        Output_Datos_lineas_clientes[1][\"Cantidad\"]=Lineas_Output_Cencosub_ZVMI\n",
    "        Output_Datos_lineas_clientes[2][\"Cantidad\"]=Lineas_Output_Exito_ZVMI\n",
    "        Output_Datos_lineas_clientes[3][\"Cantidad\"]=Valor_Mercadeo-Lineas_Output_Exito_Firme  #Preguntar por cencosub\n",
    "        Output_Datos_lineas_clientes[4][\"Cantidad\"]=Consolidado_Clientes[\"Lineas F\"].loc[1:3].sum()\n",
    "        Output_Datos_lineas_clientes[5][\"Cantidad\"]=Consolidado_Clientes[\"Lineas F\"].loc[4]\n",
    "        Output_Datos_lineas_clientes[6][\"Cantidad\"]=Consolidado_Clientes[\"Lineas M\"].sum()\n",
    "        Output_Datos_lineas_clientes[7][\"Cantidad\"]=Consolidado_Clientes[\"Lineas F\"].loc[5]+Consolidado_Clientes[\"Lineas F\"].loc[7]\n",
    "        Output_Datos_lineas_clientes[8][\"Cantidad\"]=Consolidado_Clientes[\"Lineas T\"].loc[0]-Lineas_Output_Exito_ZVMI-Consolidado_Clientes[\"Lineas F\"].loc[1:3].sum()\n",
    "        return dash.no_update,dash.no_update,dash.no_update,Output_Consolidado,Output_Datos_lineas_clientes,figure_mercadeo,figure_firme,figure_total\n",
    "    elif tab == 'tab-3-example-graph':\n",
    "        return(dash.no_update,dash.no_update,dash.no_update,dash.no_update,dash.no_update,dash.no_update,dash.no_update,dash.no_update)\n",
    "\n",
    "\n",
    "app.run(host='0.0.0.0', port=8000, debug=False)"
   ]
  }
 ],
 "metadata": {
  "kernelspec": {
   "display_name": "base",
   "language": "python",
   "name": "python3"
  },
  "language_info": {
   "codemirror_mode": {
    "name": "ipython",
    "version": 3
   },
   "file_extension": ".py",
   "mimetype": "text/x-python",
   "name": "python",
   "nbconvert_exporter": "python",
   "pygments_lexer": "ipython3",
   "version": "3.9.13"
  },
  "orig_nbformat": 4
 },
 "nbformat": 4,
 "nbformat_minor": 2
}
