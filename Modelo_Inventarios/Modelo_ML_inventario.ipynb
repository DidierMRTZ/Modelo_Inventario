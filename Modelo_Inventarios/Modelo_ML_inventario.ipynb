{
 "cells": [
  {
   "cell_type": "code",
   "execution_count": 1,
   "metadata": {},
   "outputs": [],
   "source": [
    "import findspark\n",
    "findspark.init()\n",
    "from pyspark.sql import SparkSession\n",
    "from pyspark import SparkContext\n",
    "from pyspark.sql.functions import *   #lit,col,expr,regexp_extract,regexp_replace,current_date, current_timestamp,date_format\n",
    "from pyspark.sql.types import StructField,StringType,StructType,DoubleType,LongType,IntegerType,FloatType,TimestampType,DataType\n",
    "import pyspark\n",
    "import psycopg2"
   ]
  },
  {
   "cell_type": "code",
   "execution_count": 2,
   "metadata": {},
   "outputs": [],
   "source": [
    "host = \"containers-us-west-135.railway.app\"\n",
    "port = \"6386\"\n",
    "database = \"railway\"\n",
    "user = \"postgres\"\n",
    "password = \"5gnySTpVjr8O5V4ulmD0\""
   ]
  },
  {
   "cell_type": "code",
   "execution_count": 3,
   "metadata": {},
   "outputs": [],
   "source": [
    "spark= SparkSession.builder.appName(\"BaseDatos\").getOrCreate()"
   ]
  },
  {
   "cell_type": "code",
   "execution_count": 4,
   "metadata": {},
   "outputs": [],
   "source": [
    "jdbc_url = f\"jdbc:postgresql://{host}:{port}/{database}\"\n",
    "connection_properties = {\n",
    "    \"user\": user,\n",
    "    \"password\": password,\n",
    "    \"driver\": \"org.postgresql.Driver\"\n",
    "}"
   ]
  },
  {
   "cell_type": "code",
   "execution_count": 5,
   "metadata": {},
   "outputs": [],
   "source": [
    "Base_Datos_Inventario=spark.read \\\n",
    "    .format(\"jdbc\")  \\\n",
    "    .option(\"url\", jdbc_url) \\\n",
    "    .option(\"dbtable\", 'Base_Datos_Inventario') \\\n",
    "    .option(\"user\",user) \\\n",
    "    .option(\"password\",password) \\\n",
    "    .load()"
   ]
  },
  {
   "cell_type": "code",
   "execution_count": 6,
   "metadata": {},
   "outputs": [
    {
     "data": {
      "text/plain": [
       "DataFrame[NegocioInventarios: string, Material: string, TipoMaterialInventario: string, Descripcion: string, Lote: string, Fechaentrada: string, CostoUnitarioReal: int, InventarioDisponible: float, InventarioNoDisponible: float, ValorObsoleto: float, ValorBloqueadoMM: float, ValorTotalMM: float, Permanencia: int, Cliente: string, ClaseBaseRiesgo: string, BasedeRiesgo: string, BRPesos: float]"
      ]
     },
     "execution_count": 6,
     "metadata": {},
     "output_type": "execute_result"
    }
   ],
   "source": [
    "Base_Datos_Inventario.cache()"
   ]
  },
  {
   "cell_type": "code",
   "execution_count": 7,
   "metadata": {},
   "outputs": [],
   "source": [
    "Base_Datos_Inventario=Base_Datos_Inventario.select(col('*'),\n",
    "                            date_format(to_date('Fechaentrada',\"d/M/yyy\"),\"MMMM\").alias('Mes'),\n",
    "                            date_format(to_date('Fechaentrada',\"d/M/yyy\"),\"y\").alias('Año')).drop('Descripcion','Fechaentrada')"
   ]
  },
  {
   "cell_type": "code",
   "execution_count": 8,
   "metadata": {},
   "outputs": [],
   "source": [
    "Base_Datos_Inventario.createOrReplaceTempView(\"Base_Datos_Inventario\")"
   ]
  },
  {
   "cell_type": "code",
   "execution_count": 9,
   "metadata": {},
   "outputs": [
    {
     "name": "stdout",
     "output_type": "stream",
     "text": [
      "root\n",
      " |-- NegocioInventarios: string (nullable = true)\n",
      " |-- Material: string (nullable = true)\n",
      " |-- TipoMaterialInventario: string (nullable = true)\n",
      " |-- Lote: string (nullable = true)\n",
      " |-- CostoUnitarioReal: integer (nullable = true)\n",
      " |-- InventarioDisponible: float (nullable = true)\n",
      " |-- InventarioNoDisponible: float (nullable = true)\n",
      " |-- ValorObsoleto: float (nullable = true)\n",
      " |-- ValorBloqueadoMM: float (nullable = true)\n",
      " |-- ValorTotalMM: float (nullable = true)\n",
      " |-- Permanencia: integer (nullable = true)\n",
      " |-- Cliente: string (nullable = true)\n",
      " |-- ClaseBaseRiesgo: string (nullable = true)\n",
      " |-- BasedeRiesgo: string (nullable = true)\n",
      " |-- BRPesos: float (nullable = true)\n",
      " |-- Mes: string (nullable = true)\n",
      " |-- Año: string (nullable = true)\n",
      "\n"
     ]
    }
   ],
   "source": [
    "Base_Datos_Inventario.printSchema()"
   ]
  },
  {
   "cell_type": "code",
   "execution_count": 10,
   "metadata": {},
   "outputs": [],
   "source": [
    "# Base_Datos_Inventario.columns\n",
    "# for i in Base_Datos_Inventario.columns:\n",
    "#     spark.sql(\"SELECT count({0}) AS {0} FROM Base_Datos_Inventario WHERE {0} is NULL\".format(i)).show(1)"
   ]
  },
  {
   "cell_type": "markdown",
   "metadata": {},
   "source": [
    "# Datos Descriptivos y exploratorios"
   ]
  },
  {
   "cell_type": "code",
   "execution_count": 11,
   "metadata": {},
   "outputs": [],
   "source": [
    "inputcols=['CostoUnitarioReal','InventarioDisponible','InventarioNoDisponible',\n",
    "                        'ValorObsoleto','ValorBloqueadoMM','Permanencia','BRPesos']"
   ]
  },
  {
   "cell_type": "code",
   "execution_count": 12,
   "metadata": {},
   "outputs": [
    {
     "data": {
      "text/html": [
       "<div>\n",
       "<style scoped>\n",
       "    .dataframe tbody tr th:only-of-type {\n",
       "        vertical-align: middle;\n",
       "    }\n",
       "\n",
       "    .dataframe tbody tr th {\n",
       "        vertical-align: top;\n",
       "    }\n",
       "\n",
       "    .dataframe thead th {\n",
       "        text-align: right;\n",
       "    }\n",
       "</style>\n",
       "<table border=\"1\" class=\"dataframe\">\n",
       "  <thead>\n",
       "    <tr style=\"text-align: right;\">\n",
       "      <th></th>\n",
       "      <th>summary</th>\n",
       "      <th>CostoUnitarioReal</th>\n",
       "      <th>InventarioDisponible</th>\n",
       "      <th>InventarioNoDisponible</th>\n",
       "      <th>ValorObsoleto</th>\n",
       "      <th>ValorBloqueadoMM</th>\n",
       "      <th>ValorTotalMM</th>\n",
       "      <th>Permanencia</th>\n",
       "      <th>BRPesos</th>\n",
       "    </tr>\n",
       "  </thead>\n",
       "  <tbody>\n",
       "    <tr>\n",
       "      <th>0</th>\n",
       "      <td>count</td>\n",
       "      <td>704975</td>\n",
       "      <td>704975</td>\n",
       "      <td>704975</td>\n",
       "      <td>704975</td>\n",
       "      <td>704975</td>\n",
       "      <td>658464</td>\n",
       "      <td>704975</td>\n",
       "      <td>704975</td>\n",
       "    </tr>\n",
       "    <tr>\n",
       "      <th>1</th>\n",
       "      <td>mean</td>\n",
       "      <td>41705.41556934643</td>\n",
       "      <td>5147.851974618004</td>\n",
       "      <td>143.73275048397954</td>\n",
       "      <td>0.05760267914243626</td>\n",
       "      <td>0.01993835274749658</td>\n",
       "      <td>1.9213958345847975</td>\n",
       "      <td>539.7244015745239</td>\n",
       "      <td>0.3706911592609667</td>\n",
       "    </tr>\n",
       "    <tr>\n",
       "      <th>2</th>\n",
       "      <td>stddev</td>\n",
       "      <td>859749.734814134</td>\n",
       "      <td>134113.89418113086</td>\n",
       "      <td>11701.48541252973</td>\n",
       "      <td>0.8546298804118816</td>\n",
       "      <td>0.7145676101471892</td>\n",
       "      <td>9.09804648454944</td>\n",
       "      <td>648.234950080117</td>\n",
       "      <td>3.7672935571505577</td>\n",
       "    </tr>\n",
       "    <tr>\n",
       "      <th>3</th>\n",
       "      <td>min</td>\n",
       "      <td>0</td>\n",
       "      <td>0.0</td>\n",
       "      <td>0.0</td>\n",
       "      <td>0.0</td>\n",
       "      <td>0.0</td>\n",
       "      <td>0.0</td>\n",
       "      <td>0</td>\n",
       "      <td>0.0</td>\n",
       "    </tr>\n",
       "    <tr>\n",
       "      <th>4</th>\n",
       "      <td>max</td>\n",
       "      <td>96060887</td>\n",
       "      <td>1.85464E7</td>\n",
       "      <td>7944000.0</td>\n",
       "      <td>147.2064</td>\n",
       "      <td>154.58832</td>\n",
       "      <td>595.82904</td>\n",
       "      <td>5597</td>\n",
       "      <td>406.0</td>\n",
       "    </tr>\n",
       "  </tbody>\n",
       "</table>\n",
       "</div>"
      ],
      "text/plain": [
       "  summary  CostoUnitarioReal InventarioDisponible InventarioNoDisponible  \\\n",
       "0   count             704975               704975                 704975   \n",
       "1    mean  41705.41556934643    5147.851974618004     143.73275048397954   \n",
       "2  stddev   859749.734814134   134113.89418113086      11701.48541252973   \n",
       "3     min                  0                  0.0                    0.0   \n",
       "4     max           96060887            1.85464E7              7944000.0   \n",
       "\n",
       "         ValorObsoleto     ValorBloqueadoMM        ValorTotalMM  \\\n",
       "0               704975               704975              658464   \n",
       "1  0.05760267914243626  0.01993835274749658  1.9213958345847975   \n",
       "2   0.8546298804118816   0.7145676101471892    9.09804648454944   \n",
       "3                  0.0                  0.0                 0.0   \n",
       "4             147.2064            154.58832           595.82904   \n",
       "\n",
       "         Permanencia             BRPesos  \n",
       "0             704975              704975  \n",
       "1  539.7244015745239  0.3706911592609667  \n",
       "2   648.234950080117  3.7672935571505577  \n",
       "3                  0                 0.0  \n",
       "4               5597               406.0  "
      ]
     },
     "execution_count": 12,
     "metadata": {},
     "output_type": "execute_result"
    }
   ],
   "source": [
    "Base_Datos_Inventario[['CostoUnitarioReal','InventarioDisponible','InventarioNoDisponible',\n",
    "                        'ValorObsoleto','ValorBloqueadoMM','ValorTotalMM','Permanencia','BRPesos']].describe().toPandas()"
   ]
  },
  {
   "cell_type": "code",
   "execution_count": 13,
   "metadata": {},
   "outputs": [
    {
     "data": {
      "text/plain": [
       "{'CostoUnitarioReal': 0.014184583267925828,\n",
       " 'InventarioDisponible': 0.15634414574358924,\n",
       " 'InventarioNoDisponible': 0.02473781227635128,\n",
       " 'ValorObsoleto': 0.07600961419623711,\n",
       " 'ValorBloqueadoMM': 0.08199653261584916,\n",
       " 'Permanencia': -0.12229195764110684,\n",
       " 'BRPesos': 0.402686246310465}"
      ]
     },
     "execution_count": 13,
     "metadata": {},
     "output_type": "execute_result"
    }
   ],
   "source": [
    "import matplotlib.pyplot as plt\n",
    "import seaborn as sb\n",
    "\n",
    "inputcols=Base_Datos_Inventario[inputcols].drop('ValorTotalMM').columns\n",
    "dic={}\n",
    "for i in inputcols:\n",
    "    dic[i]=Base_Datos_Inventario[['CostoUnitarioReal','InventarioDisponible','InventarioNoDisponible',\n",
    "                        'ValorObsoleto','ValorBloqueadoMM','ValorTotalMM','Permanencia','BRPesos']].stat.corr('ValorTotalMM',i)    #Credit_Limit\n",
    "dic"
   ]
  },
  {
   "cell_type": "code",
   "execution_count": 14,
   "metadata": {},
   "outputs": [
    {
     "data": {
      "text/plain": [
       "<AxesSubplot:>"
      ]
     },
     "execution_count": 14,
     "metadata": {},
     "output_type": "execute_result"
    },
    {
     "data": {
      "image/png": "[encoded data removed]",
      "text/plain": [
       "<Figure size 800x800 with 2 Axes>"
      ]
     },
     "metadata": {},
     "output_type": "display_data"
    }
   ],
   "source": [
    "corr=Base_Datos_Inventario[[inputcols]].toPandas().corr()\n",
    "fig,axes=plt.subplots(figsize=(8,8))\n",
    "sb.heatmap(corr,annot=True,fmt='.2f')"
   ]
  },
  {
   "cell_type": "markdown",
   "metadata": {},
   "source": [
    "## Aplicar Trasformadores, estimadores y evaluadores"
   ]
  },
  {
   "cell_type": "code",
   "execution_count": 15,
   "metadata": {},
   "outputs": [],
   "source": [
    "import warnings\n",
    "warnings.filterwarnings(\"ignore\")\n",
    "from pyspark.ml.feature import *\n",
    "from pyspark.ml.classification import LogisticRegression\n",
    "from pyspark.ml import Pipeline \n",
    "from pyspark.ml.evaluation import MulticlassClassificationEvaluator\n",
    "from pyspark.ml.feature import VectorAssembler\n",
    "from pyspark.ml.feature import StringIndexer, OneHotEncoder\n",
    "from pyspark.ml.feature import MinMaxScaler\n",
    "from pyspark.ml.regression import LinearRegression\n",
    "from pyspark.ml.feature import UnivariateFeatureSelector"
   ]
  },
  {
   "cell_type": "code",
   "execution_count": 16,
   "metadata": {},
   "outputs": [],
   "source": [
    "Base_Datos_Inventario=Base_Datos_Inventario.select(col('*'),(col('ValorTotalMM')*10000000).alias('Valor'))"
   ]
  },
  {
   "cell_type": "code",
   "execution_count": 21,
   "metadata": {},
   "outputs": [],
   "source": [
    "data_categoric_inp=['NegocioInventarios','Material','TipoMaterialInventario','Lote',\n",
    "                    'Cliente','ClaseBaseRiesgo','BasedeRiesgo','Mes','Año']\n",
    "data_categoric_out=['NegocioInventarios_Bin','Material_Bin','TipoMaterialInventario_Bin','Lote_Bin',\n",
    "                   'Cliente_Bin','ClaseBaseRiesgo_Bin','BasedeRiesgo_Bin','Mes_Bin','Año_Bin']\n",
    "data_numeric=['CostoUnitarioReal','InventarioDisponible','InventarioNoDisponible',\n",
    "                'ValorObsoleto','ValorBloqueadoMM','BRPesos']  #'Permanencia' out \n",
    "data_string=StringIndexer(inputCols=data_categoric_inp,outputCols=data_categoric_out,handleInvalid=\"keep\")\n",
    "data_vector=VectorAssembler(inputCols=data_numeric+data_categoric_out,outputCol=\"Vector\")\n",
    "#\n",
    "# selector=UnivariateFeatureSelector(featuresCol=\"Vector\",outputCol=\"selectedFeatures\",\n",
    "#                                     labelCol='Permanencia',selectionMode=\"fpr\")\n",
    "#\n",
    "minmax_scaler=MinMaxScaler(min=0,max=1,inputCol=\"Vector\",outputCol=\"Features\")\n",
    "polynomial_expansion = PolynomialExpansion(degree=2, inputCol=\"Features\", outputCol=\"polyFeatures\")"
   ]
  },
  {
   "cell_type": "code",
   "execution_count": 24,
   "metadata": {},
   "outputs": [],
   "source": [
    "# Define los porcentajes de partición\n",
    "p1 = 0.70  # 70%\n",
    "p2 = 0.30  # 30%\n",
    "\n",
    "# Divide el DataFrame en tres DataFrames más pequeños utilizando el método sample\n",
    "data_train = Base_Datos_Inventario.sample(False, p1)\n",
    "data_test = Base_Datos_Inventario.sample(False, p2)\n",
    "LR=LinearRegression(featuresCol=\"polyFeatures\",labelCol='Permanencia',maxIter=30,regParam=0.30,elasticNetParam=0.85)\n",
    "Pipeline_LR=Pipeline(stages=[data_string,data_vector,minmax_scaler,polynomial_expansion,LR])"
   ]
  },
  {
   "cell_type": "code",
   "execution_count": 25,
   "metadata": {},
   "outputs": [],
   "source": [
    "Model_LR=Pipeline_LR.fit(data_train)"
   ]
  },
  {
   "cell_type": "code",
   "execution_count": 26,
   "metadata": {},
   "outputs": [],
   "source": [
    "Prediction_LR=Model_LR.transform(data_test)"
   ]
  },
  {
   "cell_type": "code",
   "execution_count": 27,
   "metadata": {},
   "outputs": [
    {
     "name": "stdout",
     "output_type": "stream",
     "text": [
      "+-----------+------------------+\n",
      "|Permanencia|        prediction|\n",
      "+-----------+------------------+\n",
      "|        643|1040.1141950803647|\n",
      "|        414|   1342.4236135032|\n",
      "|        422| 988.3767916096053|\n",
      "|        381| 982.3595766343512|\n",
      "|        275| 989.5909343588194|\n",
      "|        355|1228.5007055144665|\n",
      "|        577| 492.8515595900866|\n",
      "|        576| 497.3287195827652|\n",
      "|        565| 495.7927071413987|\n",
      "|        564|494.83046381275165|\n",
      "|        562|497.64522980411556|\n",
      "|        508| 950.6019932220468|\n",
      "|        480| 946.9752889252136|\n",
      "|         88|418.28435719333635|\n",
      "|         46| 317.6089901042415|\n",
      "|         11| 357.3687917345641|\n",
      "|         67| 713.6801478362896|\n",
      "|          0| 577.8898686494424|\n",
      "|        226| 38.37514512388162|\n",
      "|         45| 511.0683658150256|\n",
      "+-----------+------------------+\n",
      "only showing top 20 rows\n",
      "\n"
     ]
    }
   ],
   "source": [
    "Prediction_LR[['Permanencia','prediction']].show()"
   ]
  },
  {
   "cell_type": "code",
   "execution_count": 28,
   "metadata": {},
   "outputs": [
    {
     "data": {
      "text/plain": [
       "0.3630154374617053"
      ]
     },
     "execution_count": 28,
     "metadata": {},
     "output_type": "execute_result"
    }
   ],
   "source": [
    "from pyspark.ml.evaluation import RegressionEvaluator\n",
    "LR_evaluater=RegressionEvaluator(labelCol='Permanencia',predictionCol='prediction',metricName=\"r2\")\n",
    "LR_evaluater.evaluate(Prediction_LR)"
   ]
  },
  {
   "cell_type": "code",
   "execution_count": null,
   "metadata": {},
   "outputs": [],
   "source": [
    "intercept=Model_LR.stages[-1].intercept\n",
    "coefic=Model_LR.stages[-1].coefficients\n",
    "intercept,coefic"
   ]
  },
  {
   "cell_type": "code",
   "execution_count": null,
   "metadata": {},
   "outputs": [],
   "source": [
    "\n",
    "Model_LR.save(\"Model_LR_Inventario\")"
   ]
  },
  {
   "cell_type": "markdown",
   "metadata": {},
   "source": [
    "# Desicion Tree"
   ]
  }
 ],
 "metadata": {
  "kernelspec": {
   "display_name": "base",
   "language": "python",
   "name": "python3"
  },
  "language_info": {
   "codemirror_mode": {
    "name": "ipython",
    "version": 3
   },
   "file_extension": ".py",
   "mimetype": "text/x-python",
   "name": "python",
   "nbconvert_exporter": "python",
   "pygments_lexer": "ipython3",
   "version": "3.9.13"
  },
  "orig_nbformat": 4
 },
 "nbformat": 4,
 "nbformat_minor": 2
}
